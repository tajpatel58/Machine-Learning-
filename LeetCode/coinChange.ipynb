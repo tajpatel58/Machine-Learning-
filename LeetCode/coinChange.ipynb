{
 "cells": [
  {
   "cell_type": "code",
   "execution_count": 73,
   "metadata": {},
   "outputs": [],
   "source": [
    "class Solution:\n",
    "    def coinChange(self, coins, amount):\n",
    "        coins.sort()\n",
    "        l = len(coins)\n",
    "        m = max(coins)\n",
    "        a = amount\n",
    "        count = 0\n",
    "        remainder = amount\n",
    "\n",
    "        if amount == 0:\n",
    "            return 0\n",
    "        elif l == 1 and  amount % coins[0] == 0:\n",
    "            return int(amount / coins[0])\n",
    "        elif l == 1 and amount % coins[0] != 0:\n",
    "            return -1\n",
    "        else:\n",
    "            if a / m >= 1:\n",
    "                count = int(a / m)\n",
    "                remainder = a % m    \n",
    "            coins = coins[:-1]\n",
    "            return count + self.coinChange(coins, remainder)\n",
    "\n"
   ]
  },
  {
   "cell_type": "code",
   "execution_count": 74,
   "metadata": {},
   "outputs": [
    {
     "name": "stdout",
     "output_type": "stream",
     "text": [
      "3\n"
     ]
    }
   ],
   "source": [
    "sol = Solution()\n",
    "coin = [1,2,5]\n",
    "val = 11\n",
    "print(sol.coinChange(coin, val))"
   ]
  },
  {
   "cell_type": "code",
   "execution_count": null,
   "metadata": {},
   "outputs": [],
   "source": []
  }
 ],
 "metadata": {
  "interpreter": {
   "hash": "742eda1bdf1e218a3bb2b4bc9aaa5c450f2dcf1623d3e127dc8dee9e2156d7e1"
  },
  "kernelspec": {
   "display_name": "Python 3.9.5 ('base')",
   "language": "python",
   "name": "python3"
  },
  "language_info": {
   "name": "python",
   "version": "3.9.5"
  },
  "orig_nbformat": 4
 },
 "nbformat": 4,
 "nbformat_minor": 2
}
