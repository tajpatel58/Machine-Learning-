{
 "cells": [
  {
   "cell_type": "code",
   "execution_count": null,
   "metadata": {},
   "outputs": [],
   "source": [
    "from sqlalchemy import create_engine\n",
    "DATABASE_TYPE = 'postgresql'\n",
    "DBAPI = 'psycopg2'\n",
    "ENDPOINT = 'aicoredb.chh4wn6u9b8f.us-east-2.rds.amazonaws.com' # Change it for your AWS endpoint\n",
    "USER = 'postgres'\n",
    "PASSWORD = 'postgres'\n",
    "PORT = 5432\n",
    "DATABASE = 'postgres'\n",
    "engine = create_engine(f\"{DATABASE_TYPE}+{DBAPI}://{USER}:{PASSWORD}@{ENDPOINT}:{PORT}/{DATABASE}\")"
   ]
  },
  {
   "cell_type": "code",
   "execution_count": null,
   "metadata": {},
   "outputs": [],
   "source": [
    "from sklearn.datasets import load_iris \n",
    "import pandas as pd\n",
    "data = load_iris()\n",
    "iris = pd.DataFrame(data['data'], columns=data['feature_names'])\n",
    "iris.head()\n",
    "\n",
    "iris.to_sql('iris_dataset', engine, if_exists='replace')"
   ]
  },
  {
   "cell_type": "code",
   "execution_count": null,
   "metadata": {},
   "outputs": [],
   "source": [
    "iris.head()"
   ]
  },
  {
   "cell_type": "code",
   "execution_count": null,
   "metadata": {},
   "outputs": [],
   "source": [
    "import boto3 \n",
    "s3_client = boto3.client('s3')"
   ]
  },
  {
   "cell_type": "code",
   "execution_count": null,
   "metadata": {},
   "outputs": [],
   "source": [
    "s3_client.upload_file('macOS-Big-Sur-wallpaper-inspiration-javierocasio-idownloadblog-Waves-Light-4k.jpg', 'myfirstbucket5320', 'MacOS_Wallpaper.jpg')"
   ]
  },
  {
   "cell_type": "code",
   "execution_count": null,
   "metadata": {},
   "outputs": [],
   "source": [
    "# Create an instance of a Bucket object based on the Bucket created on AWS. \n",
    "\n",
    "s3 = boto3.resource('s3')\n",
    "\n",
    "my_bucket = s3.Bucket('myfirstbucket5320')\n"
   ]
  },
  {
   "cell_type": "code",
   "execution_count": null,
   "metadata": {},
   "outputs": [],
   "source": [
    "for val in my_bucket.objects.all():\n",
    "    print(val.Version)"
   ]
  },
  {
   "cell_type": "code",
   "execution_count": null,
   "metadata": {},
   "outputs": [],
   "source": [
    "ai_core_bucket = boto3.resource('s3').Bucket('aicore-prac')\n",
    "\n"
   ]
  },
  {
   "cell_type": "code",
   "execution_count": null,
   "metadata": {},
   "outputs": [],
   "source": [
    "ai_core_bucket.upload_file('DS_CV.pdf','Data_Science_CV.pdf')"
   ]
  },
  {
   "cell_type": "code",
   "execution_count": null,
   "metadata": {},
   "outputs": [],
   "source": [
    "from selenium import webdriver\n",
    "from selenium.webdriver.common.keys import Keys\n",
    "from selenium.webdriver.common.by import By\n",
    "import pandas as pd \n",
    "import urllib.request \n",
    "from time import sleep"
   ]
  },
  {
   "cell_type": "code",
   "execution_count": null,
   "metadata": {},
   "outputs": [],
   "source": [
    "class catScraper:\n",
    "    def __init__(self):\n",
    "        self.driver = webdriver.Safari()\n",
    "        self.driver.get('https://all-free-download.com/free-photos/cute-cat-jpg.html')\n",
    "        self.bucket = boto3.resource('s3').Bucket('aicore-prac')\n",
    "        sleep(5)\n",
    "\n",
    "    def _find_cat_photos(self):\n",
    "        try:\n",
    "            list_pics = self.driver.find_elements(By.XPATH, '//img[@class=\"item-image img-fluid\"]')\n",
    "        except:\n",
    "            pass\n",
    "        images_name_url = {}\n",
    "        for pic in list_pics:\n",
    "            try:\n",
    "                images_name_url[pic.get_attribute('alt')] =  pic.get_attribute('src')\n",
    "            except:\n",
    "                continue\n",
    "        self.driver.quit()\n",
    "        return images_name_url\n",
    "    \n",
    "    \n",
    "    def upload_to_bucket(self):\n",
    "        data = self._find_cat_photos()\n",
    "        self.driver = webdriver.Safari()\n",
    "        for image_name in data.keys():\n",
    "            urllib.request.urlretrieve(data[image_name],f'./Cats/{image_name}.jpg')\n",
    "            self.bucket.upload_file(f'./Cats/{image_name}.jpg', f'Cats_Photos/{image_name}.jpg')\n",
    "\n",
    "\n"
   ]
  },
  {
   "cell_type": "code",
   "execution_count": null,
   "metadata": {},
   "outputs": [],
   "source": [
    "cat_photos = catScraper()\n",
    "cat_photos.upload_to_bucket()"
   ]
  },
  {
   "cell_type": "code",
   "execution_count": 77,
   "metadata": {},
   "outputs": [],
   "source": [
    "ai_core_bucket.download_file('Data_Science_CV.pdf', './DS_CV.pdf')\n",
    "\n",
    "\n"
   ]
  },
  {
   "cell_type": "code",
   "execution_count": 1,
   "metadata": {},
   "outputs": [
    {
     "ename": "NameError",
     "evalue": "name 'ai_core_bucket' is not defined",
     "output_type": "error",
     "traceback": [
      "\u001b[0;31m---------------------------------------------------------------------------\u001b[0m",
      "\u001b[0;31mNameError\u001b[0m                                 Traceback (most recent call last)",
      "\u001b[0;32m/var/folders/bn/m0fctgmn5t753x60khg3_q2m0000gn/T/ipykernel_20587/1253550490.py\u001b[0m in \u001b[0;36m<module>\u001b[0;34m\u001b[0m\n\u001b[0;32m----> 1\u001b[0;31m \u001b[0mai_core_bucket\u001b[0m\u001b[0;34m.\u001b[0m\u001b[0mdownload_file\u001b[0m\u001b[0;34m(\u001b[0m\u001b[0;34m'Data/Name_Age.csv'\u001b[0m\u001b[0;34m,\u001b[0m \u001b[0;34m'./Name_Age.csv'\u001b[0m\u001b[0;34m)\u001b[0m\u001b[0;34m\u001b[0m\u001b[0;34m\u001b[0m\u001b[0m\n\u001b[0m",
      "\u001b[0;31mNameError\u001b[0m: name 'ai_core_bucket' is not defined"
     ]
    }
   ],
   "source": [
    "ai_core_bucket.download_file('Data/Name_Age.csv', './Name_Age.csv')"
   ]
  },
  {
   "cell_type": "code",
   "execution_count": null,
   "metadata": {},
   "outputs": [],
   "source": []
  }
 ],
 "metadata": {
  "interpreter": {
   "hash": "742eda1bdf1e218a3bb2b4bc9aaa5c450f2dcf1623d3e127dc8dee9e2156d7e1"
  },
  "kernelspec": {
   "display_name": "Python 3.9.5 64-bit ('base': conda)",
   "name": "python3"
  },
  "language_info": {
   "codemirror_mode": {
    "name": "ipython",
    "version": 3
   },
   "file_extension": ".py",
   "mimetype": "text/x-python",
   "name": "python",
   "nbconvert_exporter": "python",
   "pygments_lexer": "ipython3",
   "version": "3.9.5"
  },
  "orig_nbformat": 4
 },
 "nbformat": 4,
 "nbformat_minor": 2
}
