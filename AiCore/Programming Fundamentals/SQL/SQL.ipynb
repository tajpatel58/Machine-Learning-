{
 "cells": [
  {
   "cell_type": "code",
   "execution_count": 1,
   "metadata": {},
   "outputs": [],
   "source": [
    "import psycopg2\n",
    "from sqlalchemy import create_engine\n",
    "import pandas as pd\n",
    "from selenium import webdriver\n",
    "from selenium.webdriver.common.keys import Keys\n",
    "from selenium.webdriver.common.by import By\n",
    "import pandas as pd \n",
    "import re\n",
    "import copy\n",
    "from time import sleep\n",
    "\n",
    "DATABASE_TYPE = 'postgresql'\n",
    "DBAPI = 'psycopg2'\n",
    "HOST = 'localhost'\n",
    "USER = 'postgres'\n",
    "PASSWORD = 'Taj290898'\n",
    "DATABASE = 'Pagila'\n",
    "PORT = 5432"
   ]
  },
  {
   "cell_type": "code",
   "execution_count": 2,
   "metadata": {},
   "outputs": [],
   "source": [
    "with psycopg2.connect(host=HOST, user=USER, password=PASSWORD, dbname=DATABASE, port=PORT) as conn:\n",
    "    with conn.cursor() as cur:\n",
    "        cur.execute('''SELECT * from FILM \n",
    "                        LIMIT 10''')\n",
    "        records = cur.fetchall()"
   ]
  },
  {
   "cell_type": "code",
   "execution_count": 3,
   "metadata": {},
   "outputs": [],
   "source": [
    "engine = create_engine(f\"{DATABASE_TYPE}+{DBAPI}://{USER}:{PASSWORD}@{HOST}:{PORT}/{DATABASE}\")\n"
   ]
  },
  {
   "cell_type": "code",
   "execution_count": 4,
   "metadata": {},
   "outputs": [
    {
     "data": {
      "text/html": [
       "<div>\n",
       "<style scoped>\n",
       "    .dataframe tbody tr th:only-of-type {\n",
       "        vertical-align: middle;\n",
       "    }\n",
       "\n",
       "    .dataframe tbody tr th {\n",
       "        vertical-align: top;\n",
       "    }\n",
       "\n",
       "    .dataframe thead th {\n",
       "        text-align: right;\n",
       "    }\n",
       "</style>\n",
       "<table border=\"1\" class=\"dataframe\">\n",
       "  <thead>\n",
       "    <tr style=\"text-align: right;\">\n",
       "      <th></th>\n",
       "      <th>title</th>\n",
       "      <th>year</th>\n",
       "    </tr>\n",
       "  </thead>\n",
       "  <tbody>\n",
       "    <tr>\n",
       "      <th>0</th>\n",
       "      <td>ACADEMY DINOSAUR</td>\n",
       "      <td>2006</td>\n",
       "    </tr>\n",
       "    <tr>\n",
       "      <th>1</th>\n",
       "      <td>ACE GOLDFINGER</td>\n",
       "      <td>2006</td>\n",
       "    </tr>\n",
       "    <tr>\n",
       "      <th>2</th>\n",
       "      <td>ADAPTATION HOLES</td>\n",
       "      <td>2006</td>\n",
       "    </tr>\n",
       "    <tr>\n",
       "      <th>3</th>\n",
       "      <td>AFFAIR PREJUDICE</td>\n",
       "      <td>2006</td>\n",
       "    </tr>\n",
       "    <tr>\n",
       "      <th>4</th>\n",
       "      <td>AFRICAN EGG</td>\n",
       "      <td>2006</td>\n",
       "    </tr>\n",
       "  </tbody>\n",
       "</table>\n",
       "</div>"
      ],
      "text/plain": [
       "              title  year\n",
       "0  ACADEMY DINOSAUR  2006\n",
       "1    ACE GOLDFINGER  2006\n",
       "2  ADAPTATION HOLES  2006\n",
       "3  AFFAIR PREJUDICE  2006\n",
       "4       AFRICAN EGG  2006"
      ]
     },
     "execution_count": 4,
     "metadata": {},
     "output_type": "execute_result"
    }
   ],
   "source": [
    "actors = pd.read_sql_table('film', engine)\n",
    "\n",
    "title_and_release_year = pd.read_sql_query('''SELECT title as Title, release_year as Year from film''', engine)\n",
    "\n",
    "title_and_release_year.head(5)"
   ]
  },
  {
   "cell_type": "code",
   "execution_count": 5,
   "metadata": {},
   "outputs": [],
   "source": [
    "slj_xpath = ['//div[@class=\"film-row odd\"]', '//div[@class=\"filmo-row even\"]']\n",
    "\n",
    "class ImdbScraper:\n",
    "    def __init__(self):\n",
    "        self.driver = webdriver.Safari()\n",
    "        self.engine = create_engine(f\"{DATABASE_TYPE}+{DBAPI}://{USER}:{PASSWORD}@{HOST}:{PORT}/{DATABASE}\")\n",
    "    \n",
    "    def get_data(self, url):\n",
    "        try:\n",
    "\n",
    "            self.driver.get(url)\n",
    "            sleep(5)\n",
    "            information = pd.DataFrame()\n",
    "            for xpath in slj_xpath:\n",
    "                div_tags = self.driver.find_elements(By.XPATH, xpath)\n",
    "                for tag in div_tags:\n",
    "                    film_name = tag.find_element_by_xpath('./b/a').text\n",
    "                    year = tag.find_element_by_xpath('./span').text\n",
    "                    information = information.append({'film_name': film_name, 'year': year}, ignore_index=True)\n",
    "\n",
    "            return information\n",
    "        except: \n",
    "            raise ValueError('URL Not Valid')\n",
    "    \n",
    "        \n",
    "    \n"
   ]
  },
  {
   "cell_type": "code",
   "execution_count": 20,
   "metadata": {},
   "outputs": [],
   "source": [
    "scraper = ImdbScraper()\n",
    "\n",
    "tr_data = scraper.get_data('https://www.imdb.com/name/nm0000619/?ref_=nv_sr_srsg_0')\n",
    "\n",
    "slj_data = scraper.get_data('https://www.imdb.com/name/nm0000168/?ref_=nv_sr_srsg_0')\n",
    "\n",
    "scraper.driver.quit()\n"
   ]
  },
  {
   "cell_type": "code",
   "execution_count": 22,
   "metadata": {},
   "outputs": [
    {
     "name": "stdout",
     "output_type": "stream",
     "text": [
      "2018\n",
      "2018\n"
     ]
    },
    {
     "data": {
      "text/html": [
       "<div>\n",
       "<style scoped>\n",
       "    .dataframe tbody tr th:only-of-type {\n",
       "        vertical-align: middle;\n",
       "    }\n",
       "\n",
       "    .dataframe tbody tr th {\n",
       "        vertical-align: top;\n",
       "    }\n",
       "\n",
       "    .dataframe thead th {\n",
       "        text-align: right;\n",
       "    }\n",
       "</style>\n",
       "<table border=\"1\" class=\"dataframe\">\n",
       "  <thead>\n",
       "    <tr style=\"text-align: right;\">\n",
       "      <th></th>\n",
       "      <th>film_name</th>\n",
       "      <th>year</th>\n",
       "    </tr>\n",
       "  </thead>\n",
       "  <tbody>\n",
       "    <tr>\n",
       "      <th>0</th>\n",
       "      <td>She-Hulk</td>\n",
       "      <td>\\n 2022\\n</td>\n",
       "    </tr>\n",
       "    <tr>\n",
       "      <th>1</th>\n",
       "      <td>Sundown</td>\n",
       "      <td>\\n 2021\\n</td>\n",
       "    </tr>\n",
       "    <tr>\n",
       "      <th>2</th>\n",
       "      <td>Bergman Island</td>\n",
       "      <td>\\n 2021\\n</td>\n",
       "    </tr>\n",
       "    <tr>\n",
       "      <th>3</th>\n",
       "      <td>Tin Star</td>\n",
       "      <td>\\n 2017-2020\\n</td>\n",
       "    </tr>\n",
       "    <tr>\n",
       "      <th>4</th>\n",
       "      <td>Once Upon a Time... In Hollywood</td>\n",
       "      <td>\\n 2019\\n</td>\n",
       "    </tr>\n",
       "  </tbody>\n",
       "</table>\n",
       "</div>"
      ],
      "text/plain": [
       "                          film_name            year\n",
       "0                          She-Hulk       \\n 2022\\n\n",
       "1                           Sundown       \\n 2021\\n\n",
       "2                    Bergman Island       \\n 2021\\n\n",
       "3                          Tin Star  \\n 2017-2020\\n\n",
       "4  Once Upon a Time... In Hollywood       \\n 2019\\n"
      ]
     },
     "execution_count": 22,
     "metadata": {},
     "output_type": "execute_result"
    }
   ],
   "source": [
    "c = '2018'\n",
    "new_pattern = re.compile(r'[0-9]+(-[0-9]+)?')\n",
    "j = new_pattern.search(c)[0]\n",
    "print(c)\n",
    "print(j)"
   ]
  },
  {
   "cell_type": "code",
   "execution_count": 23,
   "metadata": {},
   "outputs": [],
   "source": [
    "\n",
    "pattern = re.compile(r'[0-9]+(-[0-9]+)?')\n",
    "def _year_finder(string):\n",
    "    try:\n",
    "        year_val = pattern.search(string)[0]\n",
    "        return year_val\n",
    "    except:\n",
    "        pass \n",
    "tr_data['year'] = tr_data['year'].apply(lambda year: year_finder(year))\n",
    "slj_data['year'] = slj_data['year'].apply(lambda year: year_finder(year))"
   ]
  },
  {
   "cell_type": "code",
   "execution_count": 30,
   "metadata": {},
   "outputs": [
    {
     "data": {
      "text/html": [
       "<div>\n",
       "<style scoped>\n",
       "    .dataframe tbody tr th:only-of-type {\n",
       "        vertical-align: middle;\n",
       "    }\n",
       "\n",
       "    .dataframe tbody tr th {\n",
       "        vertical-align: top;\n",
       "    }\n",
       "\n",
       "    .dataframe thead th {\n",
       "        text-align: right;\n",
       "    }\n",
       "</style>\n",
       "<table border=\"1\" class=\"dataframe\">\n",
       "  <thead>\n",
       "    <tr style=\"text-align: right;\">\n",
       "      <th></th>\n",
       "      <th>film_name</th>\n",
       "      <th>year</th>\n",
       "    </tr>\n",
       "  </thead>\n",
       "  <tbody>\n",
       "    <tr>\n",
       "      <th>0</th>\n",
       "      <td>She-Hulk</td>\n",
       "      <td>2022</td>\n",
       "    </tr>\n",
       "    <tr>\n",
       "      <th>1</th>\n",
       "      <td>Sundown</td>\n",
       "      <td>2021</td>\n",
       "    </tr>\n",
       "    <tr>\n",
       "      <th>2</th>\n",
       "      <td>Bergman Island</td>\n",
       "      <td>2021</td>\n",
       "    </tr>\n",
       "    <tr>\n",
       "      <th>3</th>\n",
       "      <td>Tin Star</td>\n",
       "      <td>2017-2020</td>\n",
       "    </tr>\n",
       "    <tr>\n",
       "      <th>4</th>\n",
       "      <td>Once Upon a Time... In Hollywood</td>\n",
       "      <td>2019</td>\n",
       "    </tr>\n",
       "  </tbody>\n",
       "</table>\n",
       "</div>"
      ],
      "text/plain": [
       "                          film_name       year\n",
       "0                          She-Hulk       2022\n",
       "1                           Sundown       2021\n",
       "2                    Bergman Island       2021\n",
       "3                          Tin Star  2017-2020\n",
       "4  Once Upon a Time... In Hollywood       2019"
      ]
     },
     "execution_count": 30,
     "metadata": {},
     "output_type": "execute_result"
    }
   ],
   "source": [
    "tr_data.head()"
   ]
  },
  {
   "cell_type": "code",
   "execution_count": 25,
   "metadata": {},
   "outputs": [],
   "source": [
    "tr_data.to_sql('tim_roth_movies', engine, if_exists='replace')\n",
    "slj_data.to_sql('samuel_l_jackson_movies',engine, if_exists='replace')\n"
   ]
  },
  {
   "cell_type": "code",
   "execution_count": 26,
   "metadata": {},
   "outputs": [
    {
     "data": {
      "text/plain": [
       "[('The Hateful Eight', '2015'),\n",
       " ('Hardcore Henry', '2015'),\n",
       " (\"Jumpin' at The Boneyard\", '1991'),\n",
       " ('Late Night with Seth Meyers', '2016'),\n",
       " ('Rotten Tomatoes', '2015'),\n",
       " ('Cannes Film Festival', '1998-2015'),\n",
       " ('Good Day L.A.', '2013'),\n",
       " ('At the Movies', '1998'),\n",
       " ('Late Show with David Letterman', '1995'),\n",
       " ('The N Word', '2004')]"
      ]
     },
     "execution_count": 26,
     "metadata": {},
     "output_type": "execute_result"
    }
   ],
   "source": [
    "engine.execute(''' SELECT tim_roth_movies.film_name, tim_roth_movies.year \n",
    "                   FROM tim_roth_movies JOIN samuel_l_jackson_movies \n",
    "                   ON tim_roth_movies.film_name = samuel_l_jackson_movies.film_name''').fetchall()"
   ]
  },
  {
   "cell_type": "code",
   "execution_count": 27,
   "metadata": {},
   "outputs": [],
   "source": [
    "try:\n",
    "    engine.execute(''' CREATE TABLE COMMON AS SELECT tim_roth_movies.film_name, tim_roth_movies.year FROM \n",
    "                   tim_roth_movies JOIN samuel_l_jackson_movies\n",
    "                   ON tim_roth_movies.film_name = samuel_l_jackson_movies.film_name''').fetchall()\n",
    "except:\n",
    "    pass "
   ]
  },
  {
   "cell_type": "code",
   "execution_count": 28,
   "metadata": {},
   "outputs": [
    {
     "data": {
      "text/plain": [
       "<sqlalchemy.engine.cursor.LegacyCursorResult at 0x7fc0b0a7a670>"
      ]
     },
     "execution_count": 28,
     "metadata": {},
     "output_type": "execute_result"
    }
   ],
   "source": [
    "engine.execute('''CREATE TABLE only_tim AS SELECT tim_roth_movies.film_name, tim_roth_movies.year\n",
    "                                           FROM tim_roth_movies\n",
    "                                           WHERE tim_roth_movies.film_name NOT IN (SELECT samuel_l_jackson_movies.film_name FROM \n",
    "\t\t\t\t\t\t\t\t\t\t                                           samuel_l_jackson_movies)''')"
   ]
  },
  {
   "cell_type": "code",
   "execution_count": 29,
   "metadata": {},
   "outputs": [
    {
     "data": {
      "text/plain": [
       "<sqlalchemy.engine.cursor.LegacyCursorResult at 0x7fc0b0aa0dc0>"
      ]
     },
     "execution_count": 29,
     "metadata": {},
     "output_type": "execute_result"
    }
   ],
   "source": [
    "engine.execute('''CREATE TABLE only_samuel AS SELECT samuel_l_jackson_movies.film_name, samuel_l_jackson_movies.year\n",
    "                                           FROM samuel_l_jackson_movies\n",
    "                                           WHERE samuel_l_jackson_movies.film_name NOT IN (SELECT tim_roth_movies.film_name FROM \n",
    "\t\t\t\t\t\t\t\t\t\t                                           tim_roth_movies)''')"
   ]
  },
  {
   "cell_type": "code",
   "execution_count": null,
   "metadata": {},
   "outputs": [],
   "source": []
  }
 ],
 "metadata": {
  "interpreter": {
   "hash": "742eda1bdf1e218a3bb2b4bc9aaa5c450f2dcf1623d3e127dc8dee9e2156d7e1"
  },
  "kernelspec": {
   "display_name": "Python 3.9.5 64-bit ('base': conda)",
   "name": "python3"
  },
  "language_info": {
   "codemirror_mode": {
    "name": "ipython",
    "version": 3
   },
   "file_extension": ".py",
   "mimetype": "text/x-python",
   "name": "python",
   "nbconvert_exporter": "python",
   "pygments_lexer": "ipython3",
   "version": "3.9.5"
  },
  "orig_nbformat": 4
 },
 "nbformat": 4,
 "nbformat_minor": 2
}
