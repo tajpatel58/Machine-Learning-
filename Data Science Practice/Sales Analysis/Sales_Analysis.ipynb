{
 "cells": [
  {
   "cell_type": "markdown",
   "metadata": {},
   "source": [
    "# Sales Analysis "
   ]
  },
  {
   "cell_type": "markdown",
   "metadata": {},
   "source": [
    "In this notebook I try to answer business questions about 12 months worth of sales data. The data contains hundreds of thousands of electronics store purchases broken down by month, product type, cost, purchase address, etc. The data is provided as 12 seperate csv files. The packages I shall be using are Python Pandas and Python Matpltolib. \n",
    "\n",
    "I start by cleaning up some of our data, this involves:\n",
    "\n",
    "- Dropping Missing(NaN) values from the Dataframe. \n",
    "- Removing rows based upon certain conditions. \n",
    "- Changing the data type of columns. \n",
    "\n",
    "Once the data has been tidied, I will explore 5 business related questions: \n",
    "\n",
    "- What was the best month for sales? How much was earned that month?\n",
    "- What city sold the most product?\n",
    "- What time should I display advertisemens to maximize the likelihood of customer’s buying product?\n",
    "- What products are most often sold together?\n",
    "- What product sold the most? Why I think it sold the most?\n",
    "\n",
    "Credit: The data and tasks have been provided by a Youtuber: Keith Galli, this purpose of this task was to familiarise myself more with pandas and apply my knowledge to real data. \n"
   ]
  },
  {
   "cell_type": "markdown",
   "metadata": {},
   "source": [
    "### Importing Modules"
   ]
  },
  {
   "cell_type": "code",
   "execution_count": 105,
   "metadata": {},
   "outputs": [],
   "source": [
    "import pandas as pd\n",
    "import numpy as np\n",
    "import matplotlib.pyplot as plt \n",
    "import os \n",
    "import calendar"
   ]
  },
  {
   "cell_type": "markdown",
   "metadata": {},
   "source": [
    "Data is provided as 12 months of sales data in 12 seperate files, hence I'd like to merge them all into a single dataframe. "
   ]
  },
  {
   "cell_type": "code",
   "execution_count": 2,
   "metadata": {},
   "outputs": [],
   "source": [
    "merged_data = pd.DataFrame()\n",
    "\n",
    "for file in os.listdir('./Sales_Data'):\n",
    "    new_data = pd.read_csv(f'./Sales_Data/{file}')\n",
    "    merged_data = pd.concat([merged_data, new_data], ignore_index=True)\n",
    "\n",
    "# Lets save our merged data as it's useful to have:\n",
    "merged_data.to_csv('All_Months_Data.csv', index=False)"
   ]
  },
  {
   "cell_type": "markdown",
   "metadata": {},
   "source": [
    "Read in the 12 months CSV that we have just created:"
   ]
  },
  {
   "cell_type": "code",
   "execution_count": 4,
   "metadata": {},
   "outputs": [
    {
     "name": "stdout",
     "output_type": "stream",
     "text": [
      "(186850, 6)\n"
     ]
    }
   ],
   "source": [
    "all_data = pd.read_csv('All_Months_Data.csv')"
   ]
  },
  {
   "cell_type": "markdown",
   "metadata": {},
   "source": [
    "### Cleaning Data:"
   ]
  },
  {
   "cell_type": "markdown",
   "metadata": {},
   "source": [
    "First we remove all rows where we have any NaN values and we remove the repeated column names that appear in our data. "
   ]
  },
  {
   "cell_type": "code",
   "execution_count": 9,
   "metadata": {},
   "outputs": [],
   "source": [
    "\n",
    "all_data.dropna(axis=0, inplace=True)\n",
    "\n",
    "all_data = all_data.loc[all_data['Order ID'] != 'Order ID']\n",
    "\n",
    "all_data = all_data.reset_index(drop=True)"
   ]
  },
  {
   "cell_type": "markdown",
   "metadata": {},
   "source": [
    "Save our clean Data."
   ]
  },
  {
   "cell_type": "code",
   "execution_count": 10,
   "metadata": {},
   "outputs": [],
   "source": [
    "clean_data = all_data.to_csv('CleanData.csv', index=False)"
   ]
  },
  {
   "cell_type": "markdown",
   "metadata": {},
   "source": [
    "### Tidying Data:"
   ]
  },
  {
   "cell_type": "markdown",
   "metadata": {},
   "source": [
    "Read in our clean data."
   ]
  },
  {
   "cell_type": "code",
   "execution_count": 150,
   "metadata": {},
   "outputs": [],
   "source": [
    "clean_data = pd.read_csv('CleanData.csv')"
   ]
  },
  {
   "cell_type": "markdown",
   "metadata": {},
   "source": [
    "Some information is lost once merging the data, in particular, the month each data entry is from, hence I'll add a column to state the month (Numerically)."
   ]
  },
  {
   "cell_type": "code",
   "execution_count": 151,
   "metadata": {},
   "outputs": [
    {
     "data": {
      "text/html": [
       "<div>\n",
       "<style scoped>\n",
       "    .dataframe tbody tr th:only-of-type {\n",
       "        vertical-align: middle;\n",
       "    }\n",
       "\n",
       "    .dataframe tbody tr th {\n",
       "        vertical-align: top;\n",
       "    }\n",
       "\n",
       "    .dataframe thead th {\n",
       "        text-align: right;\n",
       "    }\n",
       "</style>\n",
       "<table border=\"1\" class=\"dataframe\">\n",
       "  <thead>\n",
       "    <tr style=\"text-align: right;\">\n",
       "      <th></th>\n",
       "      <th>Order ID</th>\n",
       "      <th>Product</th>\n",
       "      <th>Quantity Ordered</th>\n",
       "      <th>Price Each</th>\n",
       "      <th>Order Date</th>\n",
       "      <th>Purchase Address</th>\n",
       "      <th>Month</th>\n",
       "    </tr>\n",
       "  </thead>\n",
       "  <tbody>\n",
       "    <tr>\n",
       "      <th>0</th>\n",
       "      <td>295665</td>\n",
       "      <td>Macbook Pro Laptop</td>\n",
       "      <td>1</td>\n",
       "      <td>1700.00</td>\n",
       "      <td>12/30/19 00:01</td>\n",
       "      <td>136 Church St, New York City, NY 10001</td>\n",
       "      <td>12</td>\n",
       "    </tr>\n",
       "    <tr>\n",
       "      <th>1</th>\n",
       "      <td>295666</td>\n",
       "      <td>LG Washing Machine</td>\n",
       "      <td>1</td>\n",
       "      <td>600.00</td>\n",
       "      <td>12/29/19 07:03</td>\n",
       "      <td>562 2nd St, New York City, NY 10001</td>\n",
       "      <td>12</td>\n",
       "    </tr>\n",
       "    <tr>\n",
       "      <th>2</th>\n",
       "      <td>295667</td>\n",
       "      <td>USB-C Charging Cable</td>\n",
       "      <td>1</td>\n",
       "      <td>11.95</td>\n",
       "      <td>12/12/19 18:21</td>\n",
       "      <td>277 Main St, New York City, NY 10001</td>\n",
       "      <td>12</td>\n",
       "    </tr>\n",
       "    <tr>\n",
       "      <th>3</th>\n",
       "      <td>295668</td>\n",
       "      <td>27in FHD Monitor</td>\n",
       "      <td>1</td>\n",
       "      <td>149.99</td>\n",
       "      <td>12/22/19 15:13</td>\n",
       "      <td>410 6th St, San Francisco, CA 94016</td>\n",
       "      <td>12</td>\n",
       "    </tr>\n",
       "    <tr>\n",
       "      <th>4</th>\n",
       "      <td>295669</td>\n",
       "      <td>USB-C Charging Cable</td>\n",
       "      <td>1</td>\n",
       "      <td>11.95</td>\n",
       "      <td>12/18/19 12:38</td>\n",
       "      <td>43 Hill St, Atlanta, GA 30301</td>\n",
       "      <td>12</td>\n",
       "    </tr>\n",
       "    <tr>\n",
       "      <th>...</th>\n",
       "      <td>...</td>\n",
       "      <td>...</td>\n",
       "      <td>...</td>\n",
       "      <td>...</td>\n",
       "      <td>...</td>\n",
       "      <td>...</td>\n",
       "      <td>...</td>\n",
       "    </tr>\n",
       "    <tr>\n",
       "      <th>185945</th>\n",
       "      <td>222905</td>\n",
       "      <td>AAA Batteries (4-pack)</td>\n",
       "      <td>1</td>\n",
       "      <td>2.99</td>\n",
       "      <td>06/07/19 19:02</td>\n",
       "      <td>795 Pine St, Boston, MA 02215</td>\n",
       "      <td>6</td>\n",
       "    </tr>\n",
       "    <tr>\n",
       "      <th>185946</th>\n",
       "      <td>222906</td>\n",
       "      <td>27in FHD Monitor</td>\n",
       "      <td>1</td>\n",
       "      <td>149.99</td>\n",
       "      <td>06/01/19 19:29</td>\n",
       "      <td>495 North St, New York City, NY 10001</td>\n",
       "      <td>6</td>\n",
       "    </tr>\n",
       "    <tr>\n",
       "      <th>185947</th>\n",
       "      <td>222907</td>\n",
       "      <td>USB-C Charging Cable</td>\n",
       "      <td>1</td>\n",
       "      <td>11.95</td>\n",
       "      <td>06/22/19 18:57</td>\n",
       "      <td>319 Ridge St, San Francisco, CA 94016</td>\n",
       "      <td>6</td>\n",
       "    </tr>\n",
       "    <tr>\n",
       "      <th>185948</th>\n",
       "      <td>222908</td>\n",
       "      <td>USB-C Charging Cable</td>\n",
       "      <td>1</td>\n",
       "      <td>11.95</td>\n",
       "      <td>06/26/19 18:35</td>\n",
       "      <td>916 Main St, San Francisco, CA 94016</td>\n",
       "      <td>6</td>\n",
       "    </tr>\n",
       "    <tr>\n",
       "      <th>185949</th>\n",
       "      <td>222909</td>\n",
       "      <td>AAA Batteries (4-pack)</td>\n",
       "      <td>1</td>\n",
       "      <td>2.99</td>\n",
       "      <td>06/25/19 14:33</td>\n",
       "      <td>209 11th St, Atlanta, GA 30301</td>\n",
       "      <td>6</td>\n",
       "    </tr>\n",
       "  </tbody>\n",
       "</table>\n",
       "<p>185950 rows × 7 columns</p>\n",
       "</div>"
      ],
      "text/plain": [
       "        Order ID                 Product  Quantity Ordered  Price Each  \\\n",
       "0         295665      Macbook Pro Laptop                 1     1700.00   \n",
       "1         295666      LG Washing Machine                 1      600.00   \n",
       "2         295667    USB-C Charging Cable                 1       11.95   \n",
       "3         295668        27in FHD Monitor                 1      149.99   \n",
       "4         295669    USB-C Charging Cable                 1       11.95   \n",
       "...          ...                     ...               ...         ...   \n",
       "185945    222905  AAA Batteries (4-pack)                 1        2.99   \n",
       "185946    222906        27in FHD Monitor                 1      149.99   \n",
       "185947    222907    USB-C Charging Cable                 1       11.95   \n",
       "185948    222908    USB-C Charging Cable                 1       11.95   \n",
       "185949    222909  AAA Batteries (4-pack)                 1        2.99   \n",
       "\n",
       "            Order Date                        Purchase Address  Month  \n",
       "0       12/30/19 00:01  136 Church St, New York City, NY 10001     12  \n",
       "1       12/29/19 07:03     562 2nd St, New York City, NY 10001     12  \n",
       "2       12/12/19 18:21    277 Main St, New York City, NY 10001     12  \n",
       "3       12/22/19 15:13     410 6th St, San Francisco, CA 94016     12  \n",
       "4       12/18/19 12:38           43 Hill St, Atlanta, GA 30301     12  \n",
       "...                ...                                     ...    ...  \n",
       "185945  06/07/19 19:02           795 Pine St, Boston, MA 02215      6  \n",
       "185946  06/01/19 19:29   495 North St, New York City, NY 10001      6  \n",
       "185947  06/22/19 18:57   319 Ridge St, San Francisco, CA 94016      6  \n",
       "185948  06/26/19 18:35    916 Main St, San Francisco, CA 94016      6  \n",
       "185949  06/25/19 14:33          209 11th St, Atlanta, GA 30301      6  \n",
       "\n",
       "[185950 rows x 7 columns]"
      ]
     },
     "execution_count": 151,
     "metadata": {},
     "output_type": "execute_result"
    }
   ],
   "source": [
    "# The following splits up the 'Order Date' of each entry, then accesses the first 2 digits, ie the month and creates a new month column from that. \n",
    "\n",
    "clean_data['Month'] = clean_data['Order Date'].str.split('/', expand=True)[0]\n",
    "\n",
    "clean_data['Month'] = pd.to_numeric(clean_data['Month'])\n",
    "\n",
    "clean_data\n"
   ]
  },
  {
   "cell_type": "markdown",
   "metadata": {},
   "source": [
    "#### Question 1: What was the best month for Sales and how much was earned in that Month?"
   ]
  },
  {
   "cell_type": "markdown",
   "metadata": {},
   "source": [
    "To answer this question, I can use the Pandas GroupBy method to gain statistics about the monthly data. Before I group by the month, I first need a new column to represent the order total, as currently we only have the cost per item and the quantity ordered. Summing the price by month doesn't take into account the multiple quantities"
   ]
  },
  {
   "cell_type": "markdown",
   "metadata": {},
   "source": [
    "Creating New Columns for Order Total, for readability I shall add the column next to the price. "
   ]
  },
  {
   "cell_type": "code",
   "execution_count": 152,
   "metadata": {},
   "outputs": [],
   "source": [
    "totals = clean_data['Quantity Ordered'].multiply(clean_data['Price Each'])\n",
    "\n",
    "clean_data.insert(4,'Total', totals) \n"
   ]
  },
  {
   "cell_type": "code",
   "execution_count": 153,
   "metadata": {},
   "outputs": [
    {
     "data": {
      "text/html": [
       "<div>\n",
       "<style scoped>\n",
       "    .dataframe tbody tr th:only-of-type {\n",
       "        vertical-align: middle;\n",
       "    }\n",
       "\n",
       "    .dataframe tbody tr th {\n",
       "        vertical-align: top;\n",
       "    }\n",
       "\n",
       "    .dataframe thead th {\n",
       "        text-align: right;\n",
       "    }\n",
       "</style>\n",
       "<table border=\"1\" class=\"dataframe\">\n",
       "  <thead>\n",
       "    <tr style=\"text-align: right;\">\n",
       "      <th></th>\n",
       "      <th>Total</th>\n",
       "    </tr>\n",
       "    <tr>\n",
       "      <th>Month</th>\n",
       "      <th></th>\n",
       "    </tr>\n",
       "  </thead>\n",
       "  <tbody>\n",
       "    <tr>\n",
       "      <th>12</th>\n",
       "      <td>4613443.34</td>\n",
       "    </tr>\n",
       "    <tr>\n",
       "      <th>10</th>\n",
       "      <td>3736726.88</td>\n",
       "    </tr>\n",
       "    <tr>\n",
       "      <th>4</th>\n",
       "      <td>3390670.24</td>\n",
       "    </tr>\n",
       "    <tr>\n",
       "      <th>11</th>\n",
       "      <td>3199603.20</td>\n",
       "    </tr>\n",
       "    <tr>\n",
       "      <th>5</th>\n",
       "      <td>3152606.75</td>\n",
       "    </tr>\n",
       "    <tr>\n",
       "      <th>3</th>\n",
       "      <td>2807100.38</td>\n",
       "    </tr>\n",
       "    <tr>\n",
       "      <th>7</th>\n",
       "      <td>2647775.76</td>\n",
       "    </tr>\n",
       "    <tr>\n",
       "      <th>6</th>\n",
       "      <td>2577802.26</td>\n",
       "    </tr>\n",
       "    <tr>\n",
       "      <th>8</th>\n",
       "      <td>2244467.88</td>\n",
       "    </tr>\n",
       "    <tr>\n",
       "      <th>2</th>\n",
       "      <td>2202022.42</td>\n",
       "    </tr>\n",
       "    <tr>\n",
       "      <th>9</th>\n",
       "      <td>2097560.13</td>\n",
       "    </tr>\n",
       "    <tr>\n",
       "      <th>1</th>\n",
       "      <td>1822256.73</td>\n",
       "    </tr>\n",
       "  </tbody>\n",
       "</table>\n",
       "</div>"
      ],
      "text/plain": [
       "            Total\n",
       "Month            \n",
       "12     4613443.34\n",
       "10     3736726.88\n",
       "4      3390670.24\n",
       "11     3199603.20\n",
       "5      3152606.75\n",
       "3      2807100.38\n",
       "7      2647775.76\n",
       "6      2577802.26\n",
       "8      2244467.88\n",
       "2      2202022.42\n",
       "9      2097560.13\n",
       "1      1822256.73"
      ]
     },
     "execution_count": 153,
     "metadata": {},
     "output_type": "execute_result"
    }
   ],
   "source": [
    "monthly_totals = clean_data.groupby(['Month']).sum()['Total']\n",
    "\n",
    "monthly_sorted = pd.DataFrame(monthly_totals).sort_values('Total', ascending=False)\n",
    "\n",
    "monthly_sorted\n"
   ]
  },
  {
   "cell_type": "markdown",
   "metadata": {},
   "source": [
    "### Question 1 Answer: From this we can see that the most profitable month was December, with total sales = £4613443.34"
   ]
  },
  {
   "cell_type": "markdown",
   "metadata": {},
   "source": [
    "Let's Create a plot depicting the monthly totals:"
   ]
  },
  {
   "cell_type": "code",
   "execution_count": 154,
   "metadata": {},
   "outputs": [
    {
     "data": {
      "image/png": "[encoded data removed]",
      "text/plain": [
       "<Figure size 900x600 with 1 Axes>"
      ]
     },
     "metadata": {},
     "output_type": "display_data"
    }
   ],
   "source": [
    "plt.figure(dpi=150)\n",
    "word_months = [calendar.month_name[i] for i in range(1,13)]\n",
    "month_totals = monthly_totals.divide(1000000)\n",
    "plt.xlabel('Month')\n",
    "plt.ylabel('Sales in millions($)')\n",
    "plt.title('Overview of Sales Per Month')\n",
    "plt.bar(word_months,month_totals)\n",
    "plt.xticks(word_months, rotation=90)\n",
    "plt.yticks(np.arange(0,5.5,0.5))\n",
    "plt.show()"
   ]
  },
  {
   "cell_type": "markdown",
   "metadata": {},
   "source": [
    "### Question 2: What City had the highest number of Sales? "
   ]
  },
  {
   "cell_type": "markdown",
   "metadata": {},
   "source": [
    "To answer this question, I need to add a City column, which can be extracted from the Address line in our table. "
   ]
  },
  {
   "cell_type": "code",
   "execution_count": 156,
   "metadata": {},
   "outputs": [
    {
     "data": {
      "text/html": [
       "<div>\n",
       "<style scoped>\n",
       "    .dataframe tbody tr th:only-of-type {\n",
       "        vertical-align: middle;\n",
       "    }\n",
       "\n",
       "    .dataframe tbody tr th {\n",
       "        vertical-align: top;\n",
       "    }\n",
       "\n",
       "    .dataframe thead th {\n",
       "        text-align: right;\n",
       "    }\n",
       "</style>\n",
       "<table border=\"1\" class=\"dataframe\">\n",
       "  <thead>\n",
       "    <tr style=\"text-align: right;\">\n",
       "      <th></th>\n",
       "      <th>Order ID</th>\n",
       "      <th>Product</th>\n",
       "      <th>Quantity Ordered</th>\n",
       "      <th>Price Each</th>\n",
       "      <th>Total</th>\n",
       "      <th>Order Date</th>\n",
       "      <th>Purchase Address</th>\n",
       "      <th>Month</th>\n",
       "      <th>City (Code)</th>\n",
       "    </tr>\n",
       "  </thead>\n",
       "  <tbody>\n",
       "    <tr>\n",
       "      <th>0</th>\n",
       "      <td>295665</td>\n",
       "      <td>Macbook Pro Laptop</td>\n",
       "      <td>1</td>\n",
       "      <td>1700.00</td>\n",
       "      <td>1700.00</td>\n",
       "      <td>12/30/19 00:01</td>\n",
       "      <td>136 Church St, New York City, NY 10001</td>\n",
       "      <td>12</td>\n",
       "      <td>NY</td>\n",
       "    </tr>\n",
       "    <tr>\n",
       "      <th>1</th>\n",
       "      <td>295666</td>\n",
       "      <td>LG Washing Machine</td>\n",
       "      <td>1</td>\n",
       "      <td>600.00</td>\n",
       "      <td>600.00</td>\n",
       "      <td>12/29/19 07:03</td>\n",
       "      <td>562 2nd St, New York City, NY 10001</td>\n",
       "      <td>12</td>\n",
       "      <td>NY</td>\n",
       "    </tr>\n",
       "    <tr>\n",
       "      <th>2</th>\n",
       "      <td>295667</td>\n",
       "      <td>USB-C Charging Cable</td>\n",
       "      <td>1</td>\n",
       "      <td>11.95</td>\n",
       "      <td>11.95</td>\n",
       "      <td>12/12/19 18:21</td>\n",
       "      <td>277 Main St, New York City, NY 10001</td>\n",
       "      <td>12</td>\n",
       "      <td>NY</td>\n",
       "    </tr>\n",
       "    <tr>\n",
       "      <th>3</th>\n",
       "      <td>295668</td>\n",
       "      <td>27in FHD Monitor</td>\n",
       "      <td>1</td>\n",
       "      <td>149.99</td>\n",
       "      <td>149.99</td>\n",
       "      <td>12/22/19 15:13</td>\n",
       "      <td>410 6th St, San Francisco, CA 94016</td>\n",
       "      <td>12</td>\n",
       "      <td>CA</td>\n",
       "    </tr>\n",
       "    <tr>\n",
       "      <th>4</th>\n",
       "      <td>295669</td>\n",
       "      <td>USB-C Charging Cable</td>\n",
       "      <td>1</td>\n",
       "      <td>11.95</td>\n",
       "      <td>11.95</td>\n",
       "      <td>12/18/19 12:38</td>\n",
       "      <td>43 Hill St, Atlanta, GA 30301</td>\n",
       "      <td>12</td>\n",
       "      <td>GA</td>\n",
       "    </tr>\n",
       "    <tr>\n",
       "      <th>...</th>\n",
       "      <td>...</td>\n",
       "      <td>...</td>\n",
       "      <td>...</td>\n",
       "      <td>...</td>\n",
       "      <td>...</td>\n",
       "      <td>...</td>\n",
       "      <td>...</td>\n",
       "      <td>...</td>\n",
       "      <td>...</td>\n",
       "    </tr>\n",
       "    <tr>\n",
       "      <th>185945</th>\n",
       "      <td>222905</td>\n",
       "      <td>AAA Batteries (4-pack)</td>\n",
       "      <td>1</td>\n",
       "      <td>2.99</td>\n",
       "      <td>2.99</td>\n",
       "      <td>06/07/19 19:02</td>\n",
       "      <td>795 Pine St, Boston, MA 02215</td>\n",
       "      <td>6</td>\n",
       "      <td>MA</td>\n",
       "    </tr>\n",
       "    <tr>\n",
       "      <th>185946</th>\n",
       "      <td>222906</td>\n",
       "      <td>27in FHD Monitor</td>\n",
       "      <td>1</td>\n",
       "      <td>149.99</td>\n",
       "      <td>149.99</td>\n",
       "      <td>06/01/19 19:29</td>\n",
       "      <td>495 North St, New York City, NY 10001</td>\n",
       "      <td>6</td>\n",
       "      <td>NY</td>\n",
       "    </tr>\n",
       "    <tr>\n",
       "      <th>185947</th>\n",
       "      <td>222907</td>\n",
       "      <td>USB-C Charging Cable</td>\n",
       "      <td>1</td>\n",
       "      <td>11.95</td>\n",
       "      <td>11.95</td>\n",
       "      <td>06/22/19 18:57</td>\n",
       "      <td>319 Ridge St, San Francisco, CA 94016</td>\n",
       "      <td>6</td>\n",
       "      <td>CA</td>\n",
       "    </tr>\n",
       "    <tr>\n",
       "      <th>185948</th>\n",
       "      <td>222908</td>\n",
       "      <td>USB-C Charging Cable</td>\n",
       "      <td>1</td>\n",
       "      <td>11.95</td>\n",
       "      <td>11.95</td>\n",
       "      <td>06/26/19 18:35</td>\n",
       "      <td>916 Main St, San Francisco, CA 94016</td>\n",
       "      <td>6</td>\n",
       "      <td>CA</td>\n",
       "    </tr>\n",
       "    <tr>\n",
       "      <th>185949</th>\n",
       "      <td>222909</td>\n",
       "      <td>AAA Batteries (4-pack)</td>\n",
       "      <td>1</td>\n",
       "      <td>2.99</td>\n",
       "      <td>2.99</td>\n",
       "      <td>06/25/19 14:33</td>\n",
       "      <td>209 11th St, Atlanta, GA 30301</td>\n",
       "      <td>6</td>\n",
       "      <td>GA</td>\n",
       "    </tr>\n",
       "  </tbody>\n",
       "</table>\n",
       "<p>185950 rows × 9 columns</p>\n",
       "</div>"
      ],
      "text/plain": [
       "        Order ID                 Product  Quantity Ordered  Price Each  \\\n",
       "0         295665      Macbook Pro Laptop                 1     1700.00   \n",
       "1         295666      LG Washing Machine                 1      600.00   \n",
       "2         295667    USB-C Charging Cable                 1       11.95   \n",
       "3         295668        27in FHD Monitor                 1      149.99   \n",
       "4         295669    USB-C Charging Cable                 1       11.95   \n",
       "...          ...                     ...               ...         ...   \n",
       "185945    222905  AAA Batteries (4-pack)                 1        2.99   \n",
       "185946    222906        27in FHD Monitor                 1      149.99   \n",
       "185947    222907    USB-C Charging Cable                 1       11.95   \n",
       "185948    222908    USB-C Charging Cable                 1       11.95   \n",
       "185949    222909  AAA Batteries (4-pack)                 1        2.99   \n",
       "\n",
       "          Total      Order Date                        Purchase Address  \\\n",
       "0       1700.00  12/30/19 00:01  136 Church St, New York City, NY 10001   \n",
       "1        600.00  12/29/19 07:03     562 2nd St, New York City, NY 10001   \n",
       "2         11.95  12/12/19 18:21    277 Main St, New York City, NY 10001   \n",
       "3        149.99  12/22/19 15:13     410 6th St, San Francisco, CA 94016   \n",
       "4         11.95  12/18/19 12:38           43 Hill St, Atlanta, GA 30301   \n",
       "...         ...             ...                                     ...   \n",
       "185945     2.99  06/07/19 19:02           795 Pine St, Boston, MA 02215   \n",
       "185946   149.99  06/01/19 19:29   495 North St, New York City, NY 10001   \n",
       "185947    11.95  06/22/19 18:57   319 Ridge St, San Francisco, CA 94016   \n",
       "185948    11.95  06/26/19 18:35    916 Main St, San Francisco, CA 94016   \n",
       "185949     2.99  06/25/19 14:33          209 11th St, Atlanta, GA 30301   \n",
       "\n",
       "        Month City (Code)  \n",
       "0          12          NY  \n",
       "1          12          NY  \n",
       "2          12          NY  \n",
       "3          12          CA  \n",
       "4          12          GA  \n",
       "...       ...         ...  \n",
       "185945      6          MA  \n",
       "185946      6          NY  \n",
       "185947      6          CA  \n",
       "185948      6          CA  \n",
       "185949      6          GA  \n",
       "\n",
       "[185950 rows x 9 columns]"
      ]
     },
     "execution_count": 156,
     "metadata": {},
     "output_type": "execute_result"
    }
   ],
   "source": [
    "# To obtain the city code, I split the address up based upon commas. I then take the final string in that list, which is the City code along with the ZIp code.\n",
    "# I can then split again based upon whitespace to access just the City Code. \n",
    "city_code =  clean_data['Purchase Address'].str.split(', ', expand=True).iloc[:,-1].str.split(' ',expand=True)\n",
    "\n",
    "clean_data['City (Code)'] = city_code[0] \n",
    "\n",
    "#clean_data.groupby(['City (Code)']).sum()"
   ]
  },
  {
   "cell_type": "code",
   "execution_count": null,
   "metadata": {},
   "outputs": [],
   "source": []
  }
 ],
 "metadata": {
  "interpreter": {
   "hash": "742eda1bdf1e218a3bb2b4bc9aaa5c450f2dcf1623d3e127dc8dee9e2156d7e1"
  },
  "kernelspec": {
   "display_name": "Python 3.9.5 64-bit ('base': conda)",
   "name": "python3"
  },
  "language_info": {
   "codemirror_mode": {
    "name": "ipython",
    "version": 3
   },
   "file_extension": ".py",
   "mimetype": "text/x-python",
   "name": "python",
   "nbconvert_exporter": "python",
   "pygments_lexer": "ipython3",
   "version": "3.9.5"
  },
  "orig_nbformat": 4
 },
 "nbformat": 4,
 "nbformat_minor": 2
}
