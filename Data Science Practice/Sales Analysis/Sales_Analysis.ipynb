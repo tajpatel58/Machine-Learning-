{
 "cells": [
  {
   "cell_type": "markdown",
   "metadata": {},
   "source": [
    "# Sales Analysis "
   ]
  },
  {
   "cell_type": "markdown",
   "metadata": {},
   "source": [
    "In this notebook I try to answer business questions about 12 months worth of sales data. The data contains hundreds of thousands of electronics store purchases broken down by month, product type, cost, purchase address, etc. The data is provided as 12 seperate csv files. The packages I shall be using are Python Pandas and Python Matpltolib. \n",
    "\n",
    "I start by cleaning up some of our data, this involves:\n",
    "\n",
    "- Dropping Missing(NaN) values from the Dataframe. \n",
    "- Removing rows based upon certain conditions. \n",
    "- Changing the data type of columns. \n",
    "\n",
    "Once the data has been tidied, I will explore 5 business related questions: \n",
    "\n",
    "1. What was the best month for sales? How much was earned that month?\n",
    "2. What city sold the most product?\n",
    "3. What time should I display advertisemens to maximize the likelihood of customer’s buying product?\n",
    "4. What products are most often sold together?\n",
    "5. What product sold the most? Why I think it sold the most?\n",
    "\n",
    "Credit: The data and tasks have been provided by a Youtuber: Keith Galli, this purpose of this task was to familiarise myself more with pandas and apply my knowledge to real data. \n"
   ]
  },
  {
   "cell_type": "markdown",
   "metadata": {},
   "source": [
    "### Importing Modules"
   ]
  },
  {
   "cell_type": "code",
   "execution_count": 109,
   "metadata": {},
   "outputs": [],
   "source": [
    "import pandas as pd\n",
    "pd.options.mode.chained_assignment = None \n",
    "import numpy as np\n",
    "import matplotlib.pyplot as plt \n",
    "import os \n",
    "import calendar\n",
    "from collections import Counter\n",
    "from itertools import combinations"
   ]
  },
  {
   "cell_type": "markdown",
   "metadata": {},
   "source": [
    "Data is provided as 12 months of sales data in 12 seperate files, hence I'd like to merge them all into a single dataframe. "
   ]
  },
  {
   "cell_type": "code",
   "execution_count": 64,
   "metadata": {},
   "outputs": [],
   "source": [
    "merged_data = pd.DataFrame()\n",
    "\n",
    "for file in os.listdir('./Sales_Data'):\n",
    "    new_data = pd.read_csv(f'./Sales_Data/{file}')\n",
    "    merged_data = pd.concat([merged_data, new_data], ignore_index=True)\n",
    "\n",
    "# Lets save our merged data as it's useful to have:\n",
    "merged_data.to_csv('All_Months_Data.csv', index=False)"
   ]
  },
  {
   "cell_type": "markdown",
   "metadata": {},
   "source": [
    "Read in the 12 months CSV that we have just created:"
   ]
  },
  {
   "cell_type": "code",
   "execution_count": 65,
   "metadata": {},
   "outputs": [],
   "source": [
    "all_data = pd.read_csv('All_Months_Data.csv')"
   ]
  },
  {
   "cell_type": "markdown",
   "metadata": {},
   "source": [
    "### Cleaning Data:"
   ]
  },
  {
   "cell_type": "markdown",
   "metadata": {},
   "source": [
    "First we remove all rows where we have any NaN values and we remove the repeated column names that appear in our data. "
   ]
  },
  {
   "cell_type": "code",
   "execution_count": 66,
   "metadata": {},
   "outputs": [],
   "source": [
    "\n",
    "all_data.dropna(axis=0, inplace=True)\n",
    "\n",
    "all_data = all_data.loc[all_data['Order ID'] != 'Order ID']\n",
    "\n",
    "all_data = all_data.reset_index(drop=True)"
   ]
  },
  {
   "cell_type": "markdown",
   "metadata": {},
   "source": [
    "Save our clean Data."
   ]
  },
  {
   "cell_type": "code",
   "execution_count": 67,
   "metadata": {},
   "outputs": [],
   "source": [
    "clean_data = all_data.to_csv('CleanData.csv', index=False)"
   ]
  },
  {
   "cell_type": "markdown",
   "metadata": {},
   "source": [
    "### Tidying Data:"
   ]
  },
  {
   "cell_type": "markdown",
   "metadata": {},
   "source": [
    "Read in our clean data."
   ]
  },
  {
   "cell_type": "code",
   "execution_count": 68,
   "metadata": {},
   "outputs": [],
   "source": [
    "clean_data = pd.read_csv('CleanData.csv')"
   ]
  },
  {
   "cell_type": "markdown",
   "metadata": {},
   "source": [
    "Some information is lost once merging the data, in particular, the month each data entry is from, hence I'll add a column to state the month (Numerically)."
   ]
  },
  {
   "cell_type": "code",
   "execution_count": 69,
   "metadata": {},
   "outputs": [
    {
     "data": {
      "text/html": [
       "<div>\n",
       "<style scoped>\n",
       "    .dataframe tbody tr th:only-of-type {\n",
       "        vertical-align: middle;\n",
       "    }\n",
       "\n",
       "    .dataframe tbody tr th {\n",
       "        vertical-align: top;\n",
       "    }\n",
       "\n",
       "    .dataframe thead th {\n",
       "        text-align: right;\n",
       "    }\n",
       "</style>\n",
       "<table border=\"1\" class=\"dataframe\">\n",
       "  <thead>\n",
       "    <tr style=\"text-align: right;\">\n",
       "      <th></th>\n",
       "      <th>Order ID</th>\n",
       "      <th>Product</th>\n",
       "      <th>Quantity Ordered</th>\n",
       "      <th>Price Each</th>\n",
       "      <th>Order Date</th>\n",
       "      <th>Purchase Address</th>\n",
       "      <th>Month</th>\n",
       "    </tr>\n",
       "  </thead>\n",
       "  <tbody>\n",
       "    <tr>\n",
       "      <th>0</th>\n",
       "      <td>295665</td>\n",
       "      <td>Macbook Pro Laptop</td>\n",
       "      <td>1</td>\n",
       "      <td>1700.00</td>\n",
       "      <td>12/30/19 00:01</td>\n",
       "      <td>136 Church St, New York City, NY 10001</td>\n",
       "      <td>12</td>\n",
       "    </tr>\n",
       "    <tr>\n",
       "      <th>1</th>\n",
       "      <td>295666</td>\n",
       "      <td>LG Washing Machine</td>\n",
       "      <td>1</td>\n",
       "      <td>600.00</td>\n",
       "      <td>12/29/19 07:03</td>\n",
       "      <td>562 2nd St, New York City, NY 10001</td>\n",
       "      <td>12</td>\n",
       "    </tr>\n",
       "    <tr>\n",
       "      <th>2</th>\n",
       "      <td>295667</td>\n",
       "      <td>USB-C Charging Cable</td>\n",
       "      <td>1</td>\n",
       "      <td>11.95</td>\n",
       "      <td>12/12/19 18:21</td>\n",
       "      <td>277 Main St, New York City, NY 10001</td>\n",
       "      <td>12</td>\n",
       "    </tr>\n",
       "    <tr>\n",
       "      <th>3</th>\n",
       "      <td>295668</td>\n",
       "      <td>27in FHD Monitor</td>\n",
       "      <td>1</td>\n",
       "      <td>149.99</td>\n",
       "      <td>12/22/19 15:13</td>\n",
       "      <td>410 6th St, San Francisco, CA 94016</td>\n",
       "      <td>12</td>\n",
       "    </tr>\n",
       "    <tr>\n",
       "      <th>4</th>\n",
       "      <td>295669</td>\n",
       "      <td>USB-C Charging Cable</td>\n",
       "      <td>1</td>\n",
       "      <td>11.95</td>\n",
       "      <td>12/18/19 12:38</td>\n",
       "      <td>43 Hill St, Atlanta, GA 30301</td>\n",
       "      <td>12</td>\n",
       "    </tr>\n",
       "    <tr>\n",
       "      <th>5</th>\n",
       "      <td>295670</td>\n",
       "      <td>AA Batteries (4-pack)</td>\n",
       "      <td>1</td>\n",
       "      <td>3.84</td>\n",
       "      <td>12/31/19 22:58</td>\n",
       "      <td>200 Jefferson St, New York City, NY 10001</td>\n",
       "      <td>12</td>\n",
       "    </tr>\n",
       "  </tbody>\n",
       "</table>\n",
       "</div>"
      ],
      "text/plain": [
       "   Order ID                Product  Quantity Ordered  Price Each  \\\n",
       "0    295665     Macbook Pro Laptop                 1     1700.00   \n",
       "1    295666     LG Washing Machine                 1      600.00   \n",
       "2    295667   USB-C Charging Cable                 1       11.95   \n",
       "3    295668       27in FHD Monitor                 1      149.99   \n",
       "4    295669   USB-C Charging Cable                 1       11.95   \n",
       "5    295670  AA Batteries (4-pack)                 1        3.84   \n",
       "\n",
       "       Order Date                           Purchase Address  Month  \n",
       "0  12/30/19 00:01     136 Church St, New York City, NY 10001     12  \n",
       "1  12/29/19 07:03        562 2nd St, New York City, NY 10001     12  \n",
       "2  12/12/19 18:21       277 Main St, New York City, NY 10001     12  \n",
       "3  12/22/19 15:13        410 6th St, San Francisco, CA 94016     12  \n",
       "4  12/18/19 12:38              43 Hill St, Atlanta, GA 30301     12  \n",
       "5  12/31/19 22:58  200 Jefferson St, New York City, NY 10001     12  "
      ]
     },
     "execution_count": 69,
     "metadata": {},
     "output_type": "execute_result"
    }
   ],
   "source": [
    "# The following splits up the 'Order Date' of each entry, then accesses the first 2 digits, ie the month and creates a new month column from that. \n",
    "\n",
    "clean_data['Month'] = clean_data['Order Date'].str.split('/', expand=True)[0]\n",
    "\n",
    "clean_data['Month'] = pd.to_numeric(clean_data['Month'])\n",
    "\n",
    "clean_data.head(6)\n"
   ]
  },
  {
   "cell_type": "markdown",
   "metadata": {},
   "source": [
    "#### Question 1: What was the best month for Sales and how much was earned in that Month?"
   ]
  },
  {
   "cell_type": "markdown",
   "metadata": {},
   "source": [
    "To answer this question, I can use the Pandas GroupBy method to gain statistics about the monthly data. Before I group by the month, I first need a new column to represent the order total, as currently we only have the cost per item and the quantity ordered. Summing the price by month doesn't take into account the multiple quantities"
   ]
  },
  {
   "cell_type": "markdown",
   "metadata": {},
   "source": [
    "Creating New Columns for Order Total, for readability I shall add the column next to the price. "
   ]
  },
  {
   "cell_type": "code",
   "execution_count": 70,
   "metadata": {},
   "outputs": [],
   "source": [
    "totals = clean_data['Quantity Ordered'].multiply(clean_data['Price Each'])\n",
    "\n",
    "clean_data.insert(4,'Total', totals) \n"
   ]
  },
  {
   "cell_type": "code",
   "execution_count": 71,
   "metadata": {},
   "outputs": [
    {
     "data": {
      "text/html": [
       "<div>\n",
       "<style scoped>\n",
       "    .dataframe tbody tr th:only-of-type {\n",
       "        vertical-align: middle;\n",
       "    }\n",
       "\n",
       "    .dataframe tbody tr th {\n",
       "        vertical-align: top;\n",
       "    }\n",
       "\n",
       "    .dataframe thead th {\n",
       "        text-align: right;\n",
       "    }\n",
       "</style>\n",
       "<table border=\"1\" class=\"dataframe\">\n",
       "  <thead>\n",
       "    <tr style=\"text-align: right;\">\n",
       "      <th></th>\n",
       "      <th>Total</th>\n",
       "    </tr>\n",
       "    <tr>\n",
       "      <th>Month</th>\n",
       "      <th></th>\n",
       "    </tr>\n",
       "  </thead>\n",
       "  <tbody>\n",
       "    <tr>\n",
       "      <th>12</th>\n",
       "      <td>4613443.34</td>\n",
       "    </tr>\n",
       "    <tr>\n",
       "      <th>10</th>\n",
       "      <td>3736726.88</td>\n",
       "    </tr>\n",
       "    <tr>\n",
       "      <th>4</th>\n",
       "      <td>3390670.24</td>\n",
       "    </tr>\n",
       "    <tr>\n",
       "      <th>11</th>\n",
       "      <td>3199603.20</td>\n",
       "    </tr>\n",
       "    <tr>\n",
       "      <th>5</th>\n",
       "      <td>3152606.75</td>\n",
       "    </tr>\n",
       "    <tr>\n",
       "      <th>3</th>\n",
       "      <td>2807100.38</td>\n",
       "    </tr>\n",
       "    <tr>\n",
       "      <th>7</th>\n",
       "      <td>2647775.76</td>\n",
       "    </tr>\n",
       "    <tr>\n",
       "      <th>6</th>\n",
       "      <td>2577802.26</td>\n",
       "    </tr>\n",
       "    <tr>\n",
       "      <th>8</th>\n",
       "      <td>2244467.88</td>\n",
       "    </tr>\n",
       "    <tr>\n",
       "      <th>2</th>\n",
       "      <td>2202022.42</td>\n",
       "    </tr>\n",
       "    <tr>\n",
       "      <th>9</th>\n",
       "      <td>2097560.13</td>\n",
       "    </tr>\n",
       "    <tr>\n",
       "      <th>1</th>\n",
       "      <td>1822256.73</td>\n",
       "    </tr>\n",
       "  </tbody>\n",
       "</table>\n",
       "</div>"
      ],
      "text/plain": [
       "            Total\n",
       "Month            \n",
       "12     4613443.34\n",
       "10     3736726.88\n",
       "4      3390670.24\n",
       "11     3199603.20\n",
       "5      3152606.75\n",
       "3      2807100.38\n",
       "7      2647775.76\n",
       "6      2577802.26\n",
       "8      2244467.88\n",
       "2      2202022.42\n",
       "9      2097560.13\n",
       "1      1822256.73"
      ]
     },
     "execution_count": 71,
     "metadata": {},
     "output_type": "execute_result"
    }
   ],
   "source": [
    "monthly_totals = clean_data.groupby(['Month']).sum()['Total']\n",
    "\n",
    "monthly_sorted = pd.DataFrame(monthly_totals).sort_values('Total', ascending=False)\n",
    "\n",
    "monthly_sorted\n"
   ]
  },
  {
   "cell_type": "markdown",
   "metadata": {},
   "source": [
    "Let's Create a plot depicting the monthly totals:"
   ]
  },
  {
   "cell_type": "code",
   "execution_count": 72,
   "metadata": {},
   "outputs": [
    {
     "data": {
      "image/png": "[encoded data removed]",
      "text/plain": [
       "<Figure size 900x600 with 1 Axes>"
      ]
     },
     "metadata": {
      "needs_background": "light"
     },
     "output_type": "display_data"
    }
   ],
   "source": [
    "plt.figure(dpi=150)\n",
    "word_months = [calendar.month_name[i] for i in range(1,13)]\n",
    "month_totals = monthly_totals.divide(1000000)\n",
    "plt.xlabel('Month')\n",
    "plt.ylabel('Sales in millions($)')\n",
    "plt.title('Overview of Sales Per Month')\n",
    "plt.bar(word_months,month_totals)\n",
    "plt.xticks(word_months, rotation=90)\n",
    "plt.yticks(np.arange(0,5.5,0.5))\n",
    "plt.show()"
   ]
  },
  {
   "cell_type": "markdown",
   "metadata": {},
   "source": [
    "### Question 1 Answer: From this we can see that the most profitable month was December, with total sales = £4613443.34"
   ]
  },
  {
   "cell_type": "markdown",
   "metadata": {},
   "source": [
    "### Question 2: What City had the highest number of Sales? "
   ]
  },
  {
   "cell_type": "markdown",
   "metadata": {},
   "source": [
    "To answer this question, I need to add a City column and a State Column, which can be extracted from the Address line in our table. \n",
    "We need both city and state as some cities have the same name but belong on different states. An example of this in our dataset is Portland, which occures in States: Oregon and Maine.  "
   ]
  },
  {
   "cell_type": "code",
   "execution_count": 73,
   "metadata": {},
   "outputs": [
    {
     "data": {
      "text/html": [
       "<div>\n",
       "<style scoped>\n",
       "    .dataframe tbody tr th:only-of-type {\n",
       "        vertical-align: middle;\n",
       "    }\n",
       "\n",
       "    .dataframe tbody tr th {\n",
       "        vertical-align: top;\n",
       "    }\n",
       "\n",
       "    .dataframe thead th {\n",
       "        text-align: right;\n",
       "    }\n",
       "</style>\n",
       "<table border=\"1\" class=\"dataframe\">\n",
       "  <thead>\n",
       "    <tr style=\"text-align: right;\">\n",
       "      <th></th>\n",
       "      <th>Order ID</th>\n",
       "      <th>Product</th>\n",
       "      <th>Quantity Ordered</th>\n",
       "      <th>Price Each</th>\n",
       "      <th>Total</th>\n",
       "      <th>Order Date</th>\n",
       "      <th>Purchase Address</th>\n",
       "      <th>Month</th>\n",
       "      <th>City</th>\n",
       "    </tr>\n",
       "  </thead>\n",
       "  <tbody>\n",
       "    <tr>\n",
       "      <th>0</th>\n",
       "      <td>295665</td>\n",
       "      <td>Macbook Pro Laptop</td>\n",
       "      <td>1</td>\n",
       "      <td>1700.00</td>\n",
       "      <td>1700.00</td>\n",
       "      <td>12/30/19 00:01</td>\n",
       "      <td>136 Church St, New York City, NY 10001</td>\n",
       "      <td>12</td>\n",
       "      <td>New York City (NY)</td>\n",
       "    </tr>\n",
       "    <tr>\n",
       "      <th>1</th>\n",
       "      <td>295666</td>\n",
       "      <td>LG Washing Machine</td>\n",
       "      <td>1</td>\n",
       "      <td>600.00</td>\n",
       "      <td>600.00</td>\n",
       "      <td>12/29/19 07:03</td>\n",
       "      <td>562 2nd St, New York City, NY 10001</td>\n",
       "      <td>12</td>\n",
       "      <td>New York City (NY)</td>\n",
       "    </tr>\n",
       "    <tr>\n",
       "      <th>2</th>\n",
       "      <td>295667</td>\n",
       "      <td>USB-C Charging Cable</td>\n",
       "      <td>1</td>\n",
       "      <td>11.95</td>\n",
       "      <td>11.95</td>\n",
       "      <td>12/12/19 18:21</td>\n",
       "      <td>277 Main St, New York City, NY 10001</td>\n",
       "      <td>12</td>\n",
       "      <td>New York City (NY)</td>\n",
       "    </tr>\n",
       "    <tr>\n",
       "      <th>3</th>\n",
       "      <td>295668</td>\n",
       "      <td>27in FHD Monitor</td>\n",
       "      <td>1</td>\n",
       "      <td>149.99</td>\n",
       "      <td>149.99</td>\n",
       "      <td>12/22/19 15:13</td>\n",
       "      <td>410 6th St, San Francisco, CA 94016</td>\n",
       "      <td>12</td>\n",
       "      <td>San Francisco (CA)</td>\n",
       "    </tr>\n",
       "    <tr>\n",
       "      <th>4</th>\n",
       "      <td>295669</td>\n",
       "      <td>USB-C Charging Cable</td>\n",
       "      <td>1</td>\n",
       "      <td>11.95</td>\n",
       "      <td>11.95</td>\n",
       "      <td>12/18/19 12:38</td>\n",
       "      <td>43 Hill St, Atlanta, GA 30301</td>\n",
       "      <td>12</td>\n",
       "      <td>Atlanta (GA)</td>\n",
       "    </tr>\n",
       "    <tr>\n",
       "      <th>5</th>\n",
       "      <td>295670</td>\n",
       "      <td>AA Batteries (4-pack)</td>\n",
       "      <td>1</td>\n",
       "      <td>3.84</td>\n",
       "      <td>3.84</td>\n",
       "      <td>12/31/19 22:58</td>\n",
       "      <td>200 Jefferson St, New York City, NY 10001</td>\n",
       "      <td>12</td>\n",
       "      <td>New York City (NY)</td>\n",
       "    </tr>\n",
       "  </tbody>\n",
       "</table>\n",
       "</div>"
      ],
      "text/plain": [
       "   Order ID                Product  Quantity Ordered  Price Each    Total  \\\n",
       "0    295665     Macbook Pro Laptop                 1     1700.00  1700.00   \n",
       "1    295666     LG Washing Machine                 1      600.00   600.00   \n",
       "2    295667   USB-C Charging Cable                 1       11.95    11.95   \n",
       "3    295668       27in FHD Monitor                 1      149.99   149.99   \n",
       "4    295669   USB-C Charging Cable                 1       11.95    11.95   \n",
       "5    295670  AA Batteries (4-pack)                 1        3.84     3.84   \n",
       "\n",
       "       Order Date                           Purchase Address  Month  \\\n",
       "0  12/30/19 00:01     136 Church St, New York City, NY 10001     12   \n",
       "1  12/29/19 07:03        562 2nd St, New York City, NY 10001     12   \n",
       "2  12/12/19 18:21       277 Main St, New York City, NY 10001     12   \n",
       "3  12/22/19 15:13        410 6th St, San Francisco, CA 94016     12   \n",
       "4  12/18/19 12:38              43 Hill St, Atlanta, GA 30301     12   \n",
       "5  12/31/19 22:58  200 Jefferson St, New York City, NY 10001     12   \n",
       "\n",
       "                 City  \n",
       "0  New York City (NY)  \n",
       "1  New York City (NY)  \n",
       "2  New York City (NY)  \n",
       "3  San Francisco (CA)  \n",
       "4        Atlanta (GA)  \n",
       "5  New York City (NY)  "
      ]
     },
     "execution_count": 73,
     "metadata": {},
     "output_type": "execute_result"
    }
   ],
   "source": [
    "# To obtain the city code, I split the address up based upon commas. I then take the middle string in that list, which is the City, I then also extract the State code from the address column. \n",
    "\n",
    "#Private method, used in \"apply\" method of a dataframe. \n",
    "def _get_state(x):\n",
    "    return x.split(', ')[-1][:2]\n",
    "\n",
    "def _get_city(x):\n",
    "    return x.split(', ')[-2]\n",
    "\n",
    "city =  clean_data['Purchase Address'].apply(lambda x: f'{_get_city(x)} ({_get_state(x)})')\n",
    "\n",
    "clean_data['City'] = city\n",
    "\n",
    "clean_data.head(6)"
   ]
  },
  {
   "cell_type": "markdown",
   "metadata": {},
   "source": [
    "Now I need to Group the data based upon City and State, and then sort for highest sales first"
   ]
  },
  {
   "cell_type": "code",
   "execution_count": 74,
   "metadata": {},
   "outputs": [
    {
     "data": {
      "text/html": [
       "<div>\n",
       "<style scoped>\n",
       "    .dataframe tbody tr th:only-of-type {\n",
       "        vertical-align: middle;\n",
       "    }\n",
       "\n",
       "    .dataframe tbody tr th {\n",
       "        vertical-align: top;\n",
       "    }\n",
       "\n",
       "    .dataframe thead th {\n",
       "        text-align: right;\n",
       "    }\n",
       "</style>\n",
       "<table border=\"1\" class=\"dataframe\">\n",
       "  <thead>\n",
       "    <tr style=\"text-align: right;\">\n",
       "      <th></th>\n",
       "      <th>Total</th>\n",
       "    </tr>\n",
       "    <tr>\n",
       "      <th>City</th>\n",
       "      <th></th>\n",
       "    </tr>\n",
       "  </thead>\n",
       "  <tbody>\n",
       "    <tr>\n",
       "      <th>Atlanta (GA)</th>\n",
       "      <td>2795498.58</td>\n",
       "    </tr>\n",
       "    <tr>\n",
       "      <th>Austin (TX)</th>\n",
       "      <td>1819581.75</td>\n",
       "    </tr>\n",
       "    <tr>\n",
       "      <th>Boston (MA)</th>\n",
       "      <td>3661642.01</td>\n",
       "    </tr>\n",
       "    <tr>\n",
       "      <th>Dallas (TX)</th>\n",
       "      <td>2767975.40</td>\n",
       "    </tr>\n",
       "    <tr>\n",
       "      <th>Los Angeles (CA)</th>\n",
       "      <td>5452570.80</td>\n",
       "    </tr>\n",
       "    <tr>\n",
       "      <th>New York City (NY)</th>\n",
       "      <td>4664317.43</td>\n",
       "    </tr>\n",
       "    <tr>\n",
       "      <th>Portland (ME)</th>\n",
       "      <td>449758.27</td>\n",
       "    </tr>\n",
       "    <tr>\n",
       "      <th>Portland (OR)</th>\n",
       "      <td>1870732.34</td>\n",
       "    </tr>\n",
       "    <tr>\n",
       "      <th>San Francisco (CA)</th>\n",
       "      <td>8262203.91</td>\n",
       "    </tr>\n",
       "    <tr>\n",
       "      <th>Seattle (WA)</th>\n",
       "      <td>2747755.48</td>\n",
       "    </tr>\n",
       "  </tbody>\n",
       "</table>\n",
       "</div>"
      ],
      "text/plain": [
       "                         Total\n",
       "City                          \n",
       "Atlanta (GA)        2795498.58\n",
       "Austin (TX)         1819581.75\n",
       "Boston (MA)         3661642.01\n",
       "Dallas (TX)         2767975.40\n",
       "Los Angeles (CA)    5452570.80\n",
       "New York City (NY)  4664317.43\n",
       "Portland (ME)        449758.27\n",
       "Portland (OR)       1870732.34\n",
       "San Francisco (CA)  8262203.91\n",
       "Seattle (WA)        2747755.48"
      ]
     },
     "execution_count": 74,
     "metadata": {},
     "output_type": "execute_result"
    }
   ],
   "source": [
    "# Note that in city_sales, the cities will be sorted alphabetically. \n",
    "\n",
    "city_sales = pd.DataFrame(clean_data.groupby(by='City', sort=True).sum()['Total'])\n",
    "\n",
    "city_sales_sorted = city_sales.sort_values(by='Total', ascending=False)\n",
    "\n",
    "city_sales"
   ]
  },
  {
   "cell_type": "markdown",
   "metadata": {},
   "source": [
    "Let's Create a plot depicting the sales based upon Cities: "
   ]
  },
  {
   "cell_type": "code",
   "execution_count": 75,
   "metadata": {},
   "outputs": [
    {
     "data": {
      "image/png": "[encoded data removed]",
      "text/plain": [
       "<Figure size 720x480 with 1 Axes>"
      ]
     },
     "metadata": {
      "needs_background": "light"
     },
     "output_type": "display_data"
    }
   ],
   "source": [
    "cities = clean_data['City'].unique()\n",
    "cities.sort()\n",
    "sales_in_mill = city_sales['Total'].divide(1000000)\n",
    "\n",
    "plt.style.use('seaborn-pastel')\n",
    "plt.figure(dpi=120)\n",
    "plt.bar(cities, sales_in_mill)\n",
    "plt.xlabel('Cities',size=12)\n",
    "plt.ylabel('Sales in Millions ($)',size=12)\n",
    "plt.title('Sales by City',size=15)\n",
    "plt.xticks(cities, rotation=90,size=10)\n",
    "plt.yticks(np.arange(0,9),size=10)\n",
    "plt.show()\n"
   ]
  },
  {
   "cell_type": "markdown",
   "metadata": {},
   "source": [
    "### Question 2 Answer: We can see that the city with the most sales is San Francisco (CA). "
   ]
  },
  {
   "cell_type": "markdown",
   "metadata": {},
   "source": [
    "### Question 3: What time should I display advertisements to maximize likelihpod of a customer buying products?"
   ]
  },
  {
   "cell_type": "markdown",
   "metadata": {},
   "source": [
    "To answer this question, I'll extract the time at which orders were placed, then I will count the frequency of orders in each hour. \n",
    "I will do this based upon which hour the order time is closest to. For example, if an order was placed at 19:37, then this is closer to 20th hour than it is to 19th hour of the day, hence I will classify this as an order placed on the 20th hour. "
   ]
  },
  {
   "cell_type": "markdown",
   "metadata": {},
   "source": [
    "Convert 'Order Date' column into a python date and then create columns for the hour and minute of each order. "
   ]
  },
  {
   "cell_type": "code",
   "execution_count": 76,
   "metadata": {},
   "outputs": [
    {
     "data": {
      "text/html": [
       "<div>\n",
       "<style scoped>\n",
       "    .dataframe tbody tr th:only-of-type {\n",
       "        vertical-align: middle;\n",
       "    }\n",
       "\n",
       "    .dataframe tbody tr th {\n",
       "        vertical-align: top;\n",
       "    }\n",
       "\n",
       "    .dataframe thead th {\n",
       "        text-align: right;\n",
       "    }\n",
       "</style>\n",
       "<table border=\"1\" class=\"dataframe\">\n",
       "  <thead>\n",
       "    <tr style=\"text-align: right;\">\n",
       "      <th></th>\n",
       "      <th>Order ID</th>\n",
       "      <th>Product</th>\n",
       "      <th>Quantity Ordered</th>\n",
       "      <th>Price Each</th>\n",
       "      <th>Total</th>\n",
       "      <th>Order Date</th>\n",
       "      <th>Purchase Address</th>\n",
       "      <th>Month</th>\n",
       "      <th>City</th>\n",
       "      <th>Time</th>\n",
       "    </tr>\n",
       "  </thead>\n",
       "  <tbody>\n",
       "    <tr>\n",
       "      <th>0</th>\n",
       "      <td>295665</td>\n",
       "      <td>Macbook Pro Laptop</td>\n",
       "      <td>1</td>\n",
       "      <td>1700.00</td>\n",
       "      <td>1700.00</td>\n",
       "      <td>2019-12-30 00:01:00</td>\n",
       "      <td>136 Church St, New York City, NY 10001</td>\n",
       "      <td>12</td>\n",
       "      <td>New York City (NY)</td>\n",
       "      <td>00:01:00</td>\n",
       "    </tr>\n",
       "    <tr>\n",
       "      <th>1</th>\n",
       "      <td>295666</td>\n",
       "      <td>LG Washing Machine</td>\n",
       "      <td>1</td>\n",
       "      <td>600.00</td>\n",
       "      <td>600.00</td>\n",
       "      <td>2019-12-29 07:03:00</td>\n",
       "      <td>562 2nd St, New York City, NY 10001</td>\n",
       "      <td>12</td>\n",
       "      <td>New York City (NY)</td>\n",
       "      <td>07:03:00</td>\n",
       "    </tr>\n",
       "    <tr>\n",
       "      <th>2</th>\n",
       "      <td>295667</td>\n",
       "      <td>USB-C Charging Cable</td>\n",
       "      <td>1</td>\n",
       "      <td>11.95</td>\n",
       "      <td>11.95</td>\n",
       "      <td>2019-12-12 18:21:00</td>\n",
       "      <td>277 Main St, New York City, NY 10001</td>\n",
       "      <td>12</td>\n",
       "      <td>New York City (NY)</td>\n",
       "      <td>18:21:00</td>\n",
       "    </tr>\n",
       "    <tr>\n",
       "      <th>3</th>\n",
       "      <td>295668</td>\n",
       "      <td>27in FHD Monitor</td>\n",
       "      <td>1</td>\n",
       "      <td>149.99</td>\n",
       "      <td>149.99</td>\n",
       "      <td>2019-12-22 15:13:00</td>\n",
       "      <td>410 6th St, San Francisco, CA 94016</td>\n",
       "      <td>12</td>\n",
       "      <td>San Francisco (CA)</td>\n",
       "      <td>15:13:00</td>\n",
       "    </tr>\n",
       "    <tr>\n",
       "      <th>4</th>\n",
       "      <td>295669</td>\n",
       "      <td>USB-C Charging Cable</td>\n",
       "      <td>1</td>\n",
       "      <td>11.95</td>\n",
       "      <td>11.95</td>\n",
       "      <td>2019-12-18 12:38:00</td>\n",
       "      <td>43 Hill St, Atlanta, GA 30301</td>\n",
       "      <td>12</td>\n",
       "      <td>Atlanta (GA)</td>\n",
       "      <td>12:38:00</td>\n",
       "    </tr>\n",
       "    <tr>\n",
       "      <th>5</th>\n",
       "      <td>295670</td>\n",
       "      <td>AA Batteries (4-pack)</td>\n",
       "      <td>1</td>\n",
       "      <td>3.84</td>\n",
       "      <td>3.84</td>\n",
       "      <td>2019-12-31 22:58:00</td>\n",
       "      <td>200 Jefferson St, New York City, NY 10001</td>\n",
       "      <td>12</td>\n",
       "      <td>New York City (NY)</td>\n",
       "      <td>22:58:00</td>\n",
       "    </tr>\n",
       "  </tbody>\n",
       "</table>\n",
       "</div>"
      ],
      "text/plain": [
       "   Order ID                Product  Quantity Ordered  Price Each    Total  \\\n",
       "0    295665     Macbook Pro Laptop                 1     1700.00  1700.00   \n",
       "1    295666     LG Washing Machine                 1      600.00   600.00   \n",
       "2    295667   USB-C Charging Cable                 1       11.95    11.95   \n",
       "3    295668       27in FHD Monitor                 1      149.99   149.99   \n",
       "4    295669   USB-C Charging Cable                 1       11.95    11.95   \n",
       "5    295670  AA Batteries (4-pack)                 1        3.84     3.84   \n",
       "\n",
       "           Order Date                           Purchase Address  Month  \\\n",
       "0 2019-12-30 00:01:00     136 Church St, New York City, NY 10001     12   \n",
       "1 2019-12-29 07:03:00        562 2nd St, New York City, NY 10001     12   \n",
       "2 2019-12-12 18:21:00       277 Main St, New York City, NY 10001     12   \n",
       "3 2019-12-22 15:13:00        410 6th St, San Francisco, CA 94016     12   \n",
       "4 2019-12-18 12:38:00              43 Hill St, Atlanta, GA 30301     12   \n",
       "5 2019-12-31 22:58:00  200 Jefferson St, New York City, NY 10001     12   \n",
       "\n",
       "                 City      Time  \n",
       "0  New York City (NY)  00:01:00  \n",
       "1  New York City (NY)  07:03:00  \n",
       "2  New York City (NY)  18:21:00  \n",
       "3  San Francisco (CA)  15:13:00  \n",
       "4        Atlanta (GA)  12:38:00  \n",
       "5  New York City (NY)  22:58:00  "
      ]
     },
     "execution_count": 76,
     "metadata": {},
     "output_type": "execute_result"
    }
   ],
   "source": [
    "clean_data['Order Date'] = pd.to_datetime(clean_data['Order Date'])\n",
    "\n",
    "clean_data['Time'] = clean_data['Order Date'].dt.time\n",
    "\n",
    "clean_data.head(6)\n"
   ]
  },
  {
   "cell_type": "markdown",
   "metadata": {},
   "source": [
    "Extract the hours and count the number of times an order was placed at a particular hour. "
   ]
  },
  {
   "cell_type": "code",
   "execution_count": 77,
   "metadata": {},
   "outputs": [],
   "source": [
    "# Store occurences of each hour in a dictionary, initialising the dictionary below. \n",
    "time_of_orders = {j : 0 for j in range(0, 24)}\n",
    "\n",
    "# For each order we need to see which hour the order was placed. \n",
    "for time in clean_data['Time']:\n",
    "    # Hour and minute at which order was placed. \n",
    "    hour = time.hour\n",
    "    minute = time.minute\n",
    "    #If the minute is past the half past mark, classify as the next hour, else we count this as the same hour. \n",
    "    if minute > 30:\n",
    "        if hour == 23:\n",
    "            time_of_orders[0] += 1 \n",
    "        else:\n",
    "            time_of_orders[hour+1] +=1 \n",
    "    elif minute <= 30:\n",
    "        time_of_orders[hour] += 1 \n",
    "\n"
   ]
  },
  {
   "cell_type": "markdown",
   "metadata": {},
   "source": [
    "Create a Plot for a visual represenation:"
   ]
  },
  {
   "cell_type": "code",
   "execution_count": 78,
   "metadata": {},
   "outputs": [
    {
     "data": {
      "image/png": "[encoded data removed]",
      "text/plain": [
       "<Figure size 960x640 with 1 Axes>"
      ]
     },
     "metadata": {
      "needs_background": "light"
     },
     "output_type": "display_data"
    }
   ],
   "source": [
    "plt.figure(dpi=160)\n",
    "\n",
    "plt.plot(time_of_orders.keys(), time_of_orders.values(),marker='o')\n",
    "plt.ylabel('Number of Order Placed')\n",
    "plt.xlabel('Hour of the Day',size=8)\n",
    "plt.title('Frequency of Orders Placed at Different Times', size=10)\n",
    "plt.xticks(range(0,24), rotation=90)\n",
    "plt.show()"
   ]
  },
  {
   "cell_type": "markdown",
   "metadata": {},
   "source": [
    "#### Question 3 Answer: Based on this plot we can see that 11:30-13:30 and 18:30-20:30 are the times of the day where the largest proportion orders are placed. So I'd recommend to the shop, to place advertisements during these times to target customers. "
   ]
  },
  {
   "cell_type": "markdown",
   "metadata": {},
   "source": [
    "#### Question 4: What products are most often sold together?"
   ]
  },
  {
   "cell_type": "markdown",
   "metadata": {},
   "source": [
    "Items that are sold together, come under the same Order ID. Let's start by finding the Order ID's for which multiple items were ordered. "
   ]
  },
  {
   "cell_type": "code",
   "execution_count": 100,
   "metadata": {},
   "outputs": [
    {
     "data": {
      "text/html": [
       "<div>\n",
       "<style scoped>\n",
       "    .dataframe tbody tr th:only-of-type {\n",
       "        vertical-align: middle;\n",
       "    }\n",
       "\n",
       "    .dataframe tbody tr th {\n",
       "        vertical-align: top;\n",
       "    }\n",
       "\n",
       "    .dataframe thead th {\n",
       "        text-align: right;\n",
       "    }\n",
       "</style>\n",
       "<table border=\"1\" class=\"dataframe\">\n",
       "  <thead>\n",
       "    <tr style=\"text-align: right;\">\n",
       "      <th></th>\n",
       "      <th>Order ID</th>\n",
       "      <th>Number of Items</th>\n",
       "    </tr>\n",
       "  </thead>\n",
       "  <tbody>\n",
       "    <tr>\n",
       "      <th>19639</th>\n",
       "      <td>160873</td>\n",
       "      <td>5</td>\n",
       "    </tr>\n",
       "    <tr>\n",
       "      <th>171228</th>\n",
       "      <td>312462</td>\n",
       "      <td>4</td>\n",
       "    </tr>\n",
       "    <tr>\n",
       "      <th>101702</th>\n",
       "      <td>242936</td>\n",
       "      <td>4</td>\n",
       "    </tr>\n",
       "    <tr>\n",
       "      <th>94564</th>\n",
       "      <td>235798</td>\n",
       "      <td>4</td>\n",
       "    </tr>\n",
       "    <tr>\n",
       "      <th>24431</th>\n",
       "      <td>165665</td>\n",
       "      <td>4</td>\n",
       "    </tr>\n",
       "    <tr>\n",
       "      <th>163568</th>\n",
       "      <td>304802</td>\n",
       "      <td>4</td>\n",
       "    </tr>\n",
       "  </tbody>\n",
       "</table>\n",
       "</div>"
      ],
      "text/plain": [
       "        Order ID  Number of Items\n",
       "19639     160873                5\n",
       "171228    312462                4\n",
       "101702    242936                4\n",
       "94564     235798                4\n",
       "24431     165665                4\n",
       "163568    304802                4"
      ]
     },
     "execution_count": 100,
     "metadata": {},
     "output_type": "execute_result"
    }
   ],
   "source": [
    "\n",
    "orders = clean_data.groupby(by='Order ID', sort=True).size().reset_index(name='Number of Items')\n",
    "\n",
    "orders.sort_values(by='Number of Items', ascending=False, inplace=True)\n",
    "\n",
    "multiple_items = orders.loc[orders['Number of Items'] >= 2]\n",
    "\n",
    "multiple_items.head(6)\n"
   ]
  },
  {
   "cell_type": "markdown",
   "metadata": {},
   "source": [
    "In this dataframe of Order ID's with multiple items, I add a column for which items were sold for that particular Order ID. A note that I should order the list of items, not in the order that the items appear in the table, but alphabetically. This is because when we use Counter to count the occurences of pairs, the order of the items matters. \n",
    "Consider the case that for one Order ID: we have: iphone 13, Airpods and in another Order ID we have airpods, iphone 13. Counter will treat these as different and create new key-value pairs for each. By ordering alphabetically we ensure that the order will always be Aipords, iPhone 13, no matter which order they appear in the dataframe. "
   ]
  },
  {
   "cell_type": "code",
   "execution_count": 152,
   "metadata": {},
   "outputs": [
    {
     "data": {
      "text/html": [
       "<div>\n",
       "<style scoped>\n",
       "    .dataframe tbody tr th:only-of-type {\n",
       "        vertical-align: middle;\n",
       "    }\n",
       "\n",
       "    .dataframe tbody tr th {\n",
       "        vertical-align: top;\n",
       "    }\n",
       "\n",
       "    .dataframe thead th {\n",
       "        text-align: right;\n",
       "    }\n",
       "</style>\n",
       "<table border=\"1\" class=\"dataframe\">\n",
       "  <thead>\n",
       "    <tr style=\"text-align: right;\">\n",
       "      <th></th>\n",
       "      <th>Order ID</th>\n",
       "      <th>Number of Items</th>\n",
       "      <th>Items</th>\n",
       "    </tr>\n",
       "  </thead>\n",
       "  <tbody>\n",
       "    <tr>\n",
       "      <th>19639</th>\n",
       "      <td>160873</td>\n",
       "      <td>5</td>\n",
       "      <td>[Apple Airpods Headphones, Google Phone, Light...</td>\n",
       "    </tr>\n",
       "    <tr>\n",
       "      <th>171228</th>\n",
       "      <td>312462</td>\n",
       "      <td>4</td>\n",
       "      <td>[Apple Airpods Headphones, Lightning Charging ...</td>\n",
       "    </tr>\n",
       "    <tr>\n",
       "      <th>101702</th>\n",
       "      <td>242936</td>\n",
       "      <td>4</td>\n",
       "      <td>[Apple Airpods Headphones, Lightning Charging ...</td>\n",
       "    </tr>\n",
       "    <tr>\n",
       "      <th>94564</th>\n",
       "      <td>235798</td>\n",
       "      <td>4</td>\n",
       "      <td>[27in FHD Monitor, Google Phone, USB-C Chargin...</td>\n",
       "    </tr>\n",
       "    <tr>\n",
       "      <th>24431</th>\n",
       "      <td>165665</td>\n",
       "      <td>4</td>\n",
       "      <td>[AA Batteries (4-pack), Google Phone, USB-C Ch...</td>\n",
       "    </tr>\n",
       "    <tr>\n",
       "      <th>163568</th>\n",
       "      <td>304802</td>\n",
       "      <td>4</td>\n",
       "      <td>[34in Ultrawide Monitor, Bose SoundSport Headp...</td>\n",
       "    </tr>\n",
       "  </tbody>\n",
       "</table>\n",
       "</div>"
      ],
      "text/plain": [
       "        Order ID  Number of Items  \\\n",
       "19639     160873                5   \n",
       "171228    312462                4   \n",
       "101702    242936                4   \n",
       "94564     235798                4   \n",
       "24431     165665                4   \n",
       "163568    304802                4   \n",
       "\n",
       "                                                    Items  \n",
       "19639   [Apple Airpods Headphones, Google Phone, Light...  \n",
       "171228  [Apple Airpods Headphones, Lightning Charging ...  \n",
       "101702  [Apple Airpods Headphones, Lightning Charging ...  \n",
       "94564   [27in FHD Monitor, Google Phone, USB-C Chargin...  \n",
       "24431   [AA Batteries (4-pack), Google Phone, USB-C Ch...  \n",
       "163568  [34in Ultrawide Monitor, Bose SoundSport Headp...  "
      ]
     },
     "execution_count": 152,
     "metadata": {},
     "output_type": "execute_result"
    }
   ],
   "source": [
    "# Protected method, apply to an order ID, to access the parts of our data with that specific order ID, then make a list of it's items.\n",
    "#\n",
    "def _get_items(id):\n",
    "    items = sorted(list(clean_data.loc[clean_data['Order ID'] == id,'Product']))\n",
    "    return items\n",
    "\n",
    "multiple_items['Items'] = multiple_items['Order ID'].apply(lambda id: _get_items(id))\n",
    "\n",
    "multiple_items.head(6)"
   ]
  },
  {
   "cell_type": "markdown",
   "metadata": {},
   "source": [
    "I want to analyse what the possible pairs are in each order, and create some counter of the number of times I see such a pair in different orders. To this end, I can use Counter, from the collections package. Input of Counter is an iterable. This can be used like a dictionary, where keys are the pairs of items and values are the occurences. It automatically adds pairs that may not have been seen. \n",
    "\n",
    "Based upon above, I need the different pairs from each Order ID. For this, I can use combinations from Itertools package. \"Combinations\" is a function that takes in an iterable, and a value r. The output is then another iterable of all r-length iterables. If the iterable was a list, then returns all length r lists, and equivalently for strings. "
   ]
  },
  {
   "cell_type": "code",
   "execution_count": 154,
   "metadata": {},
   "outputs": [
    {
     "data": {
      "text/html": [
       "<div>\n",
       "<style scoped>\n",
       "    .dataframe tbody tr th:only-of-type {\n",
       "        vertical-align: middle;\n",
       "    }\n",
       "\n",
       "    .dataframe tbody tr th {\n",
       "        vertical-align: top;\n",
       "    }\n",
       "\n",
       "    .dataframe thead th {\n",
       "        text-align: right;\n",
       "    }\n",
       "</style>\n",
       "<table border=\"1\" class=\"dataframe\">\n",
       "  <thead>\n",
       "    <tr style=\"text-align: right;\">\n",
       "      <th></th>\n",
       "      <th>Item 1</th>\n",
       "      <th>Item 2</th>\n",
       "      <th>Number of Times Items Ordered Together</th>\n",
       "    </tr>\n",
       "  </thead>\n",
       "  <tbody>\n",
       "    <tr>\n",
       "      <th>0</th>\n",
       "      <td>Lightning Charging Cable</td>\n",
       "      <td>iPhone</td>\n",
       "      <td>1015</td>\n",
       "    </tr>\n",
       "    <tr>\n",
       "      <th>1</th>\n",
       "      <td>Google Phone</td>\n",
       "      <td>USB-C Charging Cable</td>\n",
       "      <td>999</td>\n",
       "    </tr>\n",
       "    <tr>\n",
       "      <th>2</th>\n",
       "      <td>Wired Headphones</td>\n",
       "      <td>iPhone</td>\n",
       "      <td>462</td>\n",
       "    </tr>\n",
       "    <tr>\n",
       "      <th>3</th>\n",
       "      <td>Google Phone</td>\n",
       "      <td>Wired Headphones</td>\n",
       "      <td>423</td>\n",
       "    </tr>\n",
       "    <tr>\n",
       "      <th>4</th>\n",
       "      <td>Apple Airpods Headphones</td>\n",
       "      <td>iPhone</td>\n",
       "      <td>373</td>\n",
       "    </tr>\n",
       "    <tr>\n",
       "      <th>5</th>\n",
       "      <td>USB-C Charging Cable</td>\n",
       "      <td>Vareebadd Phone</td>\n",
       "      <td>368</td>\n",
       "    </tr>\n",
       "    <tr>\n",
       "      <th>6</th>\n",
       "      <td>Bose SoundSport Headphones</td>\n",
       "      <td>Google Phone</td>\n",
       "      <td>228</td>\n",
       "    </tr>\n",
       "    <tr>\n",
       "      <th>7</th>\n",
       "      <td>USB-C Charging Cable</td>\n",
       "      <td>Wired Headphones</td>\n",
       "      <td>205</td>\n",
       "    </tr>\n",
       "    <tr>\n",
       "      <th>8</th>\n",
       "      <td>Vareebadd Phone</td>\n",
       "      <td>Wired Headphones</td>\n",
       "      <td>149</td>\n",
       "    </tr>\n",
       "    <tr>\n",
       "      <th>9</th>\n",
       "      <td>Lightning Charging Cable</td>\n",
       "      <td>Wired Headphones</td>\n",
       "      <td>129</td>\n",
       "    </tr>\n",
       "  </tbody>\n",
       "</table>\n",
       "</div>"
      ],
      "text/plain": [
       "                       Item 1                Item 2  \\\n",
       "0    Lightning Charging Cable                iPhone   \n",
       "1                Google Phone  USB-C Charging Cable   \n",
       "2            Wired Headphones                iPhone   \n",
       "3                Google Phone      Wired Headphones   \n",
       "4    Apple Airpods Headphones                iPhone   \n",
       "5        USB-C Charging Cable       Vareebadd Phone   \n",
       "6  Bose SoundSport Headphones          Google Phone   \n",
       "7        USB-C Charging Cable      Wired Headphones   \n",
       "8             Vareebadd Phone      Wired Headphones   \n",
       "9    Lightning Charging Cable      Wired Headphones   \n",
       "\n",
       "   Number of Times Items Ordered Together  \n",
       "0                                    1015  \n",
       "1                                     999  \n",
       "2                                     462  \n",
       "3                                     423  \n",
       "4                                     373  \n",
       "5                                     368  \n",
       "6                                     228  \n",
       "7                                     205  \n",
       "8                                     149  \n",
       "9                                     129  "
      ]
     },
     "execution_count": 154,
     "metadata": {},
     "output_type": "execute_result"
    }
   ],
   "source": [
    "#Initialise the Counter\n",
    "pairs_counter = Counter()\n",
    "\n",
    "# Loop over all Order ID's with multiple items, find the pairs and update the number of times this pair occurs. ie, update the number of items these 2 items were ordered together. \n",
    "for items in multiple_items['Items']:\n",
    "    pairs = combinations(items, 2)\n",
    "    pairs_counter.update(Counter(pairs))\n",
    "\n",
    "# pairs_counter is now a Counter object, with keys the possible pairs of items and values, the number of times these 2 items were ordered together. \n",
    "\n",
    "# Transfer this information into a Dataframe for nice presentation. \n",
    "\n",
    "item_pairs_ordered = pd.DataFrame(pairs_counter.keys(),columns=['Item 1','Item 2'])\n",
    "\n",
    "item_pairs_ordered['Number of Times Items Ordered Together'] = pd.DataFrame(pairs_counter.values())\n",
    "\n",
    "item_pairs_ordered = item_pairs_ordered.sort_values(by='Number of Times Items Ordered Together', ascending=False)\n",
    "\n",
    "item_pairs_ordered.reset_index(inplace=True, drop=True)\n",
    "\n",
    "item_pairs_ordered.head(10) "
   ]
  },
  {
   "cell_type": "markdown",
   "metadata": {},
   "source": [
    "#### Question 4 Answer: The above table, shows the top 10 products that are sold together and the number of times they were sold together. "
   ]
  },
  {
   "cell_type": "markdown",
   "metadata": {},
   "source": [
    "#### Question 5: Which Product Sold the most and why do I think it sold the most? "
   ]
  },
  {
   "cell_type": "markdown",
   "metadata": {},
   "source": [
    "Let's just view our usual data as a recap:"
   ]
  },
  {
   "cell_type": "code",
   "execution_count": 156,
   "metadata": {},
   "outputs": [
    {
     "data": {
      "text/html": [
       "<div>\n",
       "<style scoped>\n",
       "    .dataframe tbody tr th:only-of-type {\n",
       "        vertical-align: middle;\n",
       "    }\n",
       "\n",
       "    .dataframe tbody tr th {\n",
       "        vertical-align: top;\n",
       "    }\n",
       "\n",
       "    .dataframe thead th {\n",
       "        text-align: right;\n",
       "    }\n",
       "</style>\n",
       "<table border=\"1\" class=\"dataframe\">\n",
       "  <thead>\n",
       "    <tr style=\"text-align: right;\">\n",
       "      <th></th>\n",
       "      <th>Order ID</th>\n",
       "      <th>Product</th>\n",
       "      <th>Quantity Ordered</th>\n",
       "      <th>Price Each</th>\n",
       "      <th>Total</th>\n",
       "      <th>Order Date</th>\n",
       "      <th>Purchase Address</th>\n",
       "      <th>Month</th>\n",
       "      <th>City</th>\n",
       "      <th>Time</th>\n",
       "    </tr>\n",
       "  </thead>\n",
       "  <tbody>\n",
       "    <tr>\n",
       "      <th>0</th>\n",
       "      <td>295665</td>\n",
       "      <td>Macbook Pro Laptop</td>\n",
       "      <td>1</td>\n",
       "      <td>1700.00</td>\n",
       "      <td>1700.00</td>\n",
       "      <td>2019-12-30 00:01:00</td>\n",
       "      <td>136 Church St, New York City, NY 10001</td>\n",
       "      <td>12</td>\n",
       "      <td>New York City (NY)</td>\n",
       "      <td>00:01:00</td>\n",
       "    </tr>\n",
       "    <tr>\n",
       "      <th>1</th>\n",
       "      <td>295666</td>\n",
       "      <td>LG Washing Machine</td>\n",
       "      <td>1</td>\n",
       "      <td>600.00</td>\n",
       "      <td>600.00</td>\n",
       "      <td>2019-12-29 07:03:00</td>\n",
       "      <td>562 2nd St, New York City, NY 10001</td>\n",
       "      <td>12</td>\n",
       "      <td>New York City (NY)</td>\n",
       "      <td>07:03:00</td>\n",
       "    </tr>\n",
       "    <tr>\n",
       "      <th>2</th>\n",
       "      <td>295667</td>\n",
       "      <td>USB-C Charging Cable</td>\n",
       "      <td>1</td>\n",
       "      <td>11.95</td>\n",
       "      <td>11.95</td>\n",
       "      <td>2019-12-12 18:21:00</td>\n",
       "      <td>277 Main St, New York City, NY 10001</td>\n",
       "      <td>12</td>\n",
       "      <td>New York City (NY)</td>\n",
       "      <td>18:21:00</td>\n",
       "    </tr>\n",
       "    <tr>\n",
       "      <th>3</th>\n",
       "      <td>295668</td>\n",
       "      <td>27in FHD Monitor</td>\n",
       "      <td>1</td>\n",
       "      <td>149.99</td>\n",
       "      <td>149.99</td>\n",
       "      <td>2019-12-22 15:13:00</td>\n",
       "      <td>410 6th St, San Francisco, CA 94016</td>\n",
       "      <td>12</td>\n",
       "      <td>San Francisco (CA)</td>\n",
       "      <td>15:13:00</td>\n",
       "    </tr>\n",
       "    <tr>\n",
       "      <th>4</th>\n",
       "      <td>295669</td>\n",
       "      <td>USB-C Charging Cable</td>\n",
       "      <td>1</td>\n",
       "      <td>11.95</td>\n",
       "      <td>11.95</td>\n",
       "      <td>2019-12-18 12:38:00</td>\n",
       "      <td>43 Hill St, Atlanta, GA 30301</td>\n",
       "      <td>12</td>\n",
       "      <td>Atlanta (GA)</td>\n",
       "      <td>12:38:00</td>\n",
       "    </tr>\n",
       "  </tbody>\n",
       "</table>\n",
       "</div>"
      ],
      "text/plain": [
       "   Order ID               Product  Quantity Ordered  Price Each    Total  \\\n",
       "0    295665    Macbook Pro Laptop                 1     1700.00  1700.00   \n",
       "1    295666    LG Washing Machine                 1      600.00   600.00   \n",
       "2    295667  USB-C Charging Cable                 1       11.95    11.95   \n",
       "3    295668      27in FHD Monitor                 1      149.99   149.99   \n",
       "4    295669  USB-C Charging Cable                 1       11.95    11.95   \n",
       "\n",
       "           Order Date                        Purchase Address  Month  \\\n",
       "0 2019-12-30 00:01:00  136 Church St, New York City, NY 10001     12   \n",
       "1 2019-12-29 07:03:00     562 2nd St, New York City, NY 10001     12   \n",
       "2 2019-12-12 18:21:00    277 Main St, New York City, NY 10001     12   \n",
       "3 2019-12-22 15:13:00     410 6th St, San Francisco, CA 94016     12   \n",
       "4 2019-12-18 12:38:00           43 Hill St, Atlanta, GA 30301     12   \n",
       "\n",
       "                 City      Time  \n",
       "0  New York City (NY)  00:01:00  \n",
       "1  New York City (NY)  07:03:00  \n",
       "2  New York City (NY)  18:21:00  \n",
       "3  San Francisco (CA)  15:13:00  \n",
       "4        Atlanta (GA)  12:38:00  "
      ]
     },
     "execution_count": 156,
     "metadata": {},
     "output_type": "execute_result"
    }
   ],
   "source": [
    "clean_data.head(5)"
   ]
  },
  {
   "cell_type": "markdown",
   "metadata": {},
   "source": [
    "To answer this question, I can simply groupby the products and use the sum method to sum the quantity ordered. "
   ]
  },
  {
   "cell_type": "code",
   "execution_count": 175,
   "metadata": {},
   "outputs": [
    {
     "data": {
      "text/html": [
       "<div>\n",
       "<style scoped>\n",
       "    .dataframe tbody tr th:only-of-type {\n",
       "        vertical-align: middle;\n",
       "    }\n",
       "\n",
       "    .dataframe tbody tr th {\n",
       "        vertical-align: top;\n",
       "    }\n",
       "\n",
       "    .dataframe thead th {\n",
       "        text-align: right;\n",
       "    }\n",
       "</style>\n",
       "<table border=\"1\" class=\"dataframe\">\n",
       "  <thead>\n",
       "    <tr style=\"text-align: right;\">\n",
       "      <th></th>\n",
       "      <th>Product</th>\n",
       "      <th>Number of times Product was Ordered</th>\n",
       "    </tr>\n",
       "  </thead>\n",
       "  <tbody>\n",
       "    <tr>\n",
       "      <th>0</th>\n",
       "      <td>AAA Batteries (4-pack)</td>\n",
       "      <td>31017</td>\n",
       "    </tr>\n",
       "    <tr>\n",
       "      <th>1</th>\n",
       "      <td>AA Batteries (4-pack)</td>\n",
       "      <td>27635</td>\n",
       "    </tr>\n",
       "    <tr>\n",
       "      <th>2</th>\n",
       "      <td>USB-C Charging Cable</td>\n",
       "      <td>23975</td>\n",
       "    </tr>\n",
       "    <tr>\n",
       "      <th>3</th>\n",
       "      <td>Lightning Charging Cable</td>\n",
       "      <td>23217</td>\n",
       "    </tr>\n",
       "    <tr>\n",
       "      <th>4</th>\n",
       "      <td>Wired Headphones</td>\n",
       "      <td>20557</td>\n",
       "    </tr>\n",
       "    <tr>\n",
       "      <th>5</th>\n",
       "      <td>Apple Airpods Headphones</td>\n",
       "      <td>15661</td>\n",
       "    </tr>\n",
       "    <tr>\n",
       "      <th>6</th>\n",
       "      <td>Bose SoundSport Headphones</td>\n",
       "      <td>13457</td>\n",
       "    </tr>\n",
       "    <tr>\n",
       "      <th>7</th>\n",
       "      <td>27in FHD Monitor</td>\n",
       "      <td>7550</td>\n",
       "    </tr>\n",
       "    <tr>\n",
       "      <th>8</th>\n",
       "      <td>iPhone</td>\n",
       "      <td>6849</td>\n",
       "    </tr>\n",
       "    <tr>\n",
       "      <th>9</th>\n",
       "      <td>27in 4K Gaming Monitor</td>\n",
       "      <td>6244</td>\n",
       "    </tr>\n",
       "  </tbody>\n",
       "</table>\n",
       "</div>"
      ],
      "text/plain": [
       "                      Product  Number of times Product was Ordered\n",
       "0      AAA Batteries (4-pack)                                31017\n",
       "1       AA Batteries (4-pack)                                27635\n",
       "2        USB-C Charging Cable                                23975\n",
       "3    Lightning Charging Cable                                23217\n",
       "4            Wired Headphones                                20557\n",
       "5    Apple Airpods Headphones                                15661\n",
       "6  Bose SoundSport Headphones                                13457\n",
       "7            27in FHD Monitor                                 7550\n",
       "8                      iPhone                                 6849\n",
       "9      27in 4K Gaming Monitor                                 6244"
      ]
     },
     "execution_count": 175,
     "metadata": {},
     "output_type": "execute_result"
    }
   ],
   "source": [
    "product_sales = clean_data.groupby(by='Product').sum()['Quantity Ordered'].reset_index(name='Number of times Product was Ordered')\n",
    "\n",
    "product_sales.sort_values(by='Number of times Product was Ordered', inplace=True, ascending=False)\n",
    "\n",
    "product_sales.reset_index(drop=True, inplace=True)\n",
    "\n",
    "product_sales.head(10)"
   ]
  },
  {
   "cell_type": "markdown",
   "metadata": {},
   "source": [
    "#### Question 5 Answer- Part 1: The table above shows the top 10 most commonly purchased items and the number of times they were ordered. To get more of an idea of the difference in sales between products, I can plot a bar chart"
   ]
  },
  {
   "cell_type": "code",
   "execution_count": 176,
   "metadata": {},
   "outputs": [
    {
     "data": {
      "image/png": "[encoded data removed]",
      "text/plain": [
       "<Figure size 900x600 with 1 Axes>"
      ]
     },
     "metadata": {
      "needs_background": "light"
     },
     "output_type": "display_data"
    }
   ],
   "source": [
    "plt.figure(dpi=150)\n",
    "\n",
    "plt.bar(product_sales['Product'], product_sales['Number of times Product was Ordered'])\n",
    "plt.xlabel('Products')\n",
    "plt.ylabel('Number of times Product was Ordered')\n",
    "plt.xticks(product_sales['Product'], rotation=90)\n",
    "plt.title('Quantity Ordered', size=10)\n",
    "\n",
    "plt.show()"
   ]
  },
  {
   "cell_type": "markdown",
   "metadata": {},
   "source": [
    "#### Question 5 Answer- Part 2: We can see that the most commonly purchased items are AAA/AA Batteries and Charging cables. This is makes rather intuitive sense, batteries and charging cables tend to be inexpensive and they are used by most people on a daily basis. "
   ]
  },
  {
   "cell_type": "markdown",
   "metadata": {},
   "source": [
    "## Summary:"
   ]
  },
  {
   "cell_type": "markdown",
   "metadata": {},
   "source": [
    "### Skills I've developed through this Notebook:"
   ]
  },
  {
   "cell_type": "markdown",
   "metadata": {},
   "source": [
    "The primary goal of this Notebook was to develop familiarity with Pandas and be able to answer rather interesting questions from a dataset. To answer these questions required a fair amount of manipulation and processing. The skills I developed through this Notebook are: \n",
    "\n",
    "- Analyse Data through various plots.\n",
    "- Data Manipulation: Grouping data by categories, creating various data frames for different queries, extracting information from columns, using aggregate functions, casting columns into different types. \n",
    "- Data Cleaning: dropping Null/missing values. \n",
    "- Data Handling: Importing data in a Pandas Dataframe, saving files after manipulation into a CSV.\n",
    "- Answering business related questions through data transformation."
   ]
  }
 ],
 "metadata": {
  "interpreter": {
   "hash": "742eda1bdf1e218a3bb2b4bc9aaa5c450f2dcf1623d3e127dc8dee9e2156d7e1"
  },
  "kernelspec": {
   "display_name": "Python 3.9.5 64-bit ('base': conda)",
   "name": "python3"
  },
  "language_info": {
   "codemirror_mode": {
    "name": "ipython",
    "version": 3
   },
   "file_extension": ".py",
   "mimetype": "text/x-python",
   "name": "python",
   "nbconvert_exporter": "python",
   "pygments_lexer": "ipython3",
   "version": "3.9.5"
  },
  "orig_nbformat": 4
 },
 "nbformat": 4,
 "nbformat_minor": 2
}
