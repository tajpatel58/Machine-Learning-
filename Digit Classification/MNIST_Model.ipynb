{
 "cells": [
  {
   "cell_type": "markdown",
   "metadata": {},
   "source": [
    "### MNIST Data Classification Model"
   ]
  },
  {
   "cell_type": "markdown",
   "metadata": {},
   "source": [
    "The aim of this project is to build a hand written digit classification model using a Neural Network, with a single hidden layer with 25 units. Furthermore shall use reagularisation to avoid overfitting. \n",
    "\n",
    "In this project I've written most of the Neural Network functionality by myself even though there are packages made for this. As an individual who is relatively new to ML at the time of writing this Notebook, I felt it would be best to show understanding of the underlying math. \n",
    "\n",
    "The training data is a subset of the MNIST dataset, in particular I use 5000 training data pieces. Each piece of data is gathered by taking a 20x20 pixel picture of a hand written digit. "
   ]
  },
  {
   "cell_type": "markdown",
   "metadata": {},
   "source": [
    "Imports Required:"
   ]
  },
  {
   "cell_type": "code",
   "execution_count": null,
   "metadata": {},
   "outputs": [],
   "source": []
  },
  {
   "cell_type": "code",
   "execution_count": 1,
   "metadata": {},
   "outputs": [],
   "source": [
    "import scipy.io\n",
    "import numpy as np\n",
    "import math\n",
    "from Functions_For_Model.rand_initial_weights import rand_initial_weights\n",
    "from Functions_For_Model.predict import predict\n",
    "from Functions_For_Model.feed_forward import feed_forward\n",
    "from Functions_For_Model.pixel_pic import pixel_picture\n",
    "import scipy.optimize as op\n",
    "from PIL import Image \n",
    "import matplotlib.pyplot as plt\n"
   ]
  },
  {
   "cell_type": "markdown",
   "metadata": {},
   "source": [
    "Load the data in, the data is provided in the form of Matlab matrix. X will denote our design matrix, and y is our labels vector, telling us which number each data entry corresponds to.\n",
    "\n",
    "We note that the data is provided such that the label '10' corresponds to the data entry being the number 0. "
   ]
  },
  {
   "cell_type": "code",
   "execution_count": 2,
   "metadata": {},
   "outputs": [],
   "source": [
    "data = scipy.io.loadmat('./Data/ex4data1')\n",
    "X = data['X']\n",
    "y = data['y']"
   ]
  },
  {
   "cell_type": "markdown",
   "metadata": {},
   "source": [
    "Establish Some Model Parameters: \n",
    "\n",
    "- m = Number of data entries, in this case, m=5000. \n",
    "- n = Number of features. \n",
    "- k = Number of classes, in this case, we have 10, for numbers 0-9. \n",
    "- lambd = Regularisation constant. \n",
    "- pixel_dim = Number of pixels we use to obtain feature from picture of digit, in this case, =20. \n",
    "- input_layer = Input layer size. \n",
    "- hidden_layer = Number of units in the hidden layer. \n",
    "- output_layer = Number of classes. \n",
    "- epsilon = Initial values for gradient descent obtained through uniformly sampling from the interval (-epsilon, epsilon). Need to randomly sample to GS breaking through symmetry. "
   ]
  },
  {
   "cell_type": "code",
   "execution_count": 3,
   "metadata": {},
   "outputs": [],
   "source": [
    "m = X.shape[0]\n",
    "n = X.shape[1] + 1 \n",
    "k = 10 #(number of classes)\n",
    "lambd = 1\n",
    "pixel_dim = 20\n",
    "input_layer = 400\n",
    "hidden_layer = 25\n",
    "output_layer = 10\n",
    "epsilon = 0.1"
   ]
  },
  {
   "cell_type": "markdown",
   "metadata": {},
   "source": [
    "Load some test parameters for the Neural Network. These have been generated on a previous run of this notebook. I load these in for one particular reason. If I want to run the Digit Classification notebook to predict only, it saves me from having to run Gradient Descent every time. "
   ]
  },
  {
   "cell_type": "code",
   "execution_count": 4,
   "metadata": {},
   "outputs": [],
   "source": [
    "test_param = scipy.io.loadmat('./Data/ex4weights')\n",
    "test_theta1 = test_param['Theta1']\n",
    "test_theta2 = test_param['Theta2']\n",
    "\n",
    "params = np.hstack((test_theta1.reshape(1,hidden_layer*(input_layer+1)), test_theta2.reshape(1,output_layer*(hidden_layer+1))))\n",
    "params = params.flatten()"
   ]
  },
  {
   "cell_type": "markdown",
   "metadata": {},
   "source": [
    "Need to add a column of 1's to the design matrix and construct the labels matrix denoted by Y."
   ]
  },
  {
   "cell_type": "code",
   "execution_count": 5,
   "metadata": {},
   "outputs": [],
   "source": [
    "X = np.insert(X,0, 1,axis = 1)\n",
    "\n",
    "Y = np.zeros((m, k))\n",
    "\n",
    "for j in range(1,10):\n",
    "    idx = np.where(y == j)\n",
    "    Y[idx[0], j-1] = 1\n",
    "\n",
    "idx_0 = np.where(y==10)\n",
    "Y[idx_0[0],9] = 1 "
   ]
  },
  {
   "cell_type": "markdown",
   "metadata": {},
   "source": [
    "Define a cost function specific to our data, and theta is the parameter for our model. Theta needs to be given as a flattened numpy array. Theta corresponds to the 2 matrices required to feed forward through our Neural Network. "
   ]
  },
  {
   "cell_type": "code",
   "execution_count": 6,
   "metadata": {},
   "outputs": [],
   "source": [
    "cost = lambda p: cost_func(X,Y,p,lambd, input_layer, hidden_layer, output_layer)[0]\n",
    "\n",
    "grad = lambda p: cost_func(X,Y,p,lambd, input_layer, hidden_layer, output_layer)[1]"
   ]
  },
  {
   "cell_type": "markdown",
   "metadata": {},
   "source": [
    "Initialise some random weights/parameters for our model. These are uniformly generated from an interval (-epsilon, epsilon). "
   ]
  },
  {
   "cell_type": "code",
   "execution_count": 7,
   "metadata": {},
   "outputs": [],
   "source": [
    "initial_Theta1_vec = rand_initial_weights(epsilon,input_layer,hidden_layer)\n",
    "initial_Theta2_vec = rand_initial_weights(epsilon, hidden_layer,output_layer)\n",
    "initial_param = np.hstack((initial_Theta1_vec, initial_Theta2_vec))\n",
    "initial_param = initial_param.flatten()"
   ]
  },
  {
   "cell_type": "markdown",
   "metadata": {},
   "source": [
    "Here we run the gradient descent algorithm using the optimise library from Scipy. Set the iterations to 50 and initialise the algorithm with our weights generated above. \n",
    "\n",
    "The \"optimize\" value is set to 0 by default, if we set to 1, then we run the gradient descent algorithm otherwise we will use some parameters generated previously that have been stored."
   ]
  },
  {
   "cell_type": "code",
   "execution_count": 8,
   "metadata": {},
   "outputs": [],
   "source": [
    "optimize = 0\n",
    "if optimize:    \n",
    "    params = op.fmin_cg(cost, initial_param, fprime=grad,maxiter = 50)"
   ]
  },
  {
   "cell_type": "markdown",
   "metadata": {},
   "source": [
    "As we've now run gradient descent for 50 iterations to minimise the cost function, let's generate our model predictions and see the accuracy on our training data. "
   ]
  },
  {
   "cell_type": "code",
   "execution_count": 9,
   "metadata": {},
   "outputs": [
    {
     "name": "stdout",
     "output_type": "stream",
     "text": [
      "The model Accuracy is: 97.52%\n"
     ]
    }
   ],
   "source": [
    "\n",
    "model_predictions = predict(X, params, input_layer, hidden_layer, output_layer).reshape((m,1)) \n",
    "\n",
    "model_accuracy = (y==model_predictions).sum()/m * 100\n",
    "print(\"The model Accuracy is:\"+\" \"+str(model_accuracy)+\"%\")"
   ]
  },
  {
   "cell_type": "markdown",
   "metadata": {},
   "source": [
    "The following is an extension of me trying to draw digits on a tool on: https://kleki.com. The objective of this was to see if my model could predict correctly my own hand writing. \n",
    "\n",
    "The steps I took to generate the features from a png of my hand drawn number. \n",
    "\n",
    "- Convert image to grayscale. \n",
    "- Convert image to a 20x20 pixel picture with gray scale values. \n",
    "- Compute the bitwise inverse. \n",
    "- Scale grayscale values to be between 0 and 1 and reshape into a feature vector, like the features from the MNIST dataset.\n",
    "- Insert a value 1 in the first column as our model requires. \n",
    "\n",
    "These steps above are taken in the function pixel_picture. This returns a pixel picture and a feature vector for this digit."
   ]
  },
  {
   "cell_type": "code",
   "execution_count": 10,
   "metadata": {},
   "outputs": [],
   "source": [
    "pixel_image, features = pixel_picture('./Test_Examples/test_9_2.png', pixel_dim)"
   ]
  },
  {
   "cell_type": "markdown",
   "metadata": {},
   "source": [
    "Let's view the picture so we can see what the picture looks like after the preprocessing. "
   ]
  },
  {
   "cell_type": "code",
   "execution_count": 11,
   "metadata": {},
   "outputs": [
    {
     "data": {
      "text/plain": [
       "<matplotlib.image.AxesImage at 0x7fc8bfb68ca0>"
      ]
     },
     "execution_count": 11,
     "metadata": {},
     "output_type": "execute_result"
    },
    {
     "data": {
      "image/png": "[encoded data removed]",
      "text/plain": [
       "<Figure size 432x288 with 1 Axes>"
      ]
     },
     "metadata": {
      "needs_background": "light"
     },
     "output_type": "display_data"
    }
   ],
   "source": [
    "fig1 = plt.figure(1) \n",
    "plt.imshow(pixel_image.T/255, cmap='gray_r')"
   ]
  },
  {
   "cell_type": "markdown",
   "metadata": {},
   "source": [
    "Let's Feed this feature vector into our model and see what the prediction is, the true number is given by the file name. "
   ]
  },
  {
   "cell_type": "code",
   "execution_count": 12,
   "metadata": {},
   "outputs": [
    {
     "name": "stdout",
     "output_type": "stream",
     "text": [
      "[9]\n"
     ]
    }
   ],
   "source": [
    "print(predict(features, params, input_layer, hidden_layer, output_layer))"
   ]
  },
  {
   "cell_type": "markdown",
   "metadata": {},
   "source": [
    "Although this looks good based on the pixel picture above, let's try another example: "
   ]
  },
  {
   "cell_type": "code",
   "execution_count": 13,
   "metadata": {},
   "outputs": [
    {
     "data": {
      "text/plain": [
       "<matplotlib.image.AxesImage at 0x7fc8c4343be0>"
      ]
     },
     "execution_count": 13,
     "metadata": {},
     "output_type": "execute_result"
    },
    {
     "data": {
      "image/png": "[encoded data removed]",
      "text/plain": [
       "<Figure size 432x288 with 1 Axes>"
      ]
     },
     "metadata": {
      "needs_background": "light"
     },
     "output_type": "display_data"
    }
   ],
   "source": [
    "pixel_image_2, features_2 = pixel_picture('./Test_Examples/test_7_2.png', pixel_dim)\n",
    "fig2 = plt.figure(2) \n",
    "plt.imshow(pixel_image_2.T/255, cmap='gray_r')"
   ]
  },
  {
   "cell_type": "code",
   "execution_count": 14,
   "metadata": {},
   "outputs": [
    {
     "name": "stdout",
     "output_type": "stream",
     "text": [
      "[3]\n"
     ]
    }
   ],
   "source": [
    "print(predict(features_2, params, input_layer, hidden_layer, output_layer))"
   ]
  },
  {
   "cell_type": "markdown",
   "metadata": {},
   "source": [
    "We can see that this picture is obviously a number 7, however the model predicts it's a number 3. This makes some intuitive sense as this type of number 7 resembles some characteristics of the number 3. This also shows us that this model needs some work. \n",
    "\n",
    "After some research, I realised that generation of MNIST Data has used a fair amount of further preprocessing than as I have done. This is something I aim to work on in the future. \n",
    "\n",
    "For now the project is complete. "
   ]
  }
 ],
 "metadata": {
  "interpreter": {
   "hash": "742eda1bdf1e218a3bb2b4bc9aaa5c450f2dcf1623d3e127dc8dee9e2156d7e1"
  },
  "kernelspec": {
   "display_name": "Python 3.9.5 64-bit ('base': conda)",
   "name": "python3"
  },
  "language_info": {
   "codemirror_mode": {
    "name": "ipython",
    "version": 3
   },
   "file_extension": ".py",
   "mimetype": "text/x-python",
   "name": "python",
   "nbconvert_exporter": "python",
   "pygments_lexer": "ipython3",
   "version": "3.9.5"
  },
  "orig_nbformat": 4
 },
 "nbformat": 4,
 "nbformat_minor": 2
}
